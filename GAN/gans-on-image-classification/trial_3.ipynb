{
 "cells": [
  {
   "cell_type": "code",
   "execution_count": 1,
   "metadata": {},
   "outputs": [
    {
     "name": "stderr",
     "output_type": "stream",
     "text": [
      "2024-11-26 17:28:50.181031: I tensorflow/core/platform/cpu_feature_guard.cc:193] This TensorFlow binary is optimized with oneAPI Deep Neural Network Library (oneDNN) to use the following CPU instructions in performance-critical operations:  AVX2 FMA\n",
      "To enable them in other operations, rebuild TensorFlow with the appropriate compiler flags.\n",
      "2024-11-26 17:28:52.287632: I tensorflow/c/logging.cc:34] Successfully opened dynamic library libdirectml.d6f03b303ac3c4f2eeb8ca631688c9757b361310.so\n",
      "2024-11-26 17:28:52.287802: I tensorflow/c/logging.cc:34] Successfully opened dynamic library libdxcore.so\n",
      "2024-11-26 17:28:52.310882: I tensorflow/c/logging.cc:34] Successfully opened dynamic library libd3d12.so\n",
      "2024-11-26 17:28:53.103148: I tensorflow/c/logging.cc:34] DirectML device enumeration: found 2 compatible adapters.\n"
     ]
    }
   ],
   "source": [
    "%matplotlib inline\n",
    "from matplotlib import pyplot as plt\n",
    "import numpy as np\n",
    "import tensorflow as tf\n",
    "from tensorflow import keras\n",
    "from tensorflow.keras import Sequential, layers\n",
    "from tensorflow.keras.layers import Conv2D, MaxPooling2D, Flatten, Dense\n",
    "from tensorflow.keras.utils import to_categorical"
   ]
  },
  {
   "cell_type": "code",
   "execution_count": 2,
   "metadata": {},
   "outputs": [],
   "source": [
    "import glob\n",
    "import os\n",
    "import PIL\n",
    "import time\n",
    "\n",
    "from IPython import display"
   ]
  },
  {
   "cell_type": "code",
   "execution_count": 3,
   "metadata": {},
   "outputs": [],
   "source": [
    "def make_generator_model():\n",
    "    model = tf.keras.Sequential()\n",
    "    model.add(layers.Dense(7*7*256, use_bias=False, input_shape=(100,)))\n",
    "    model.add(layers.BatchNormalization())\n",
    "    model.add(layers.LeakyReLU())\n",
    "\n",
    "    model.add(layers.Reshape((7, 7, 256)))\n",
    "    assert model.output_shape == (None, 7, 7, 256) # Note: None is the batch size\n",
    "\n",
    "    model.add(layers.Conv2DTranspose(128, (5, 5), strides=(1, 1), padding='same', use_bias=False))\n",
    "    assert model.output_shape == (None, 7, 7, 128)\n",
    "    model.add(layers.BatchNormalization())\n",
    "    model.add(layers.LeakyReLU())\n",
    "\n",
    "    model.add(layers.Conv2DTranspose(64, (5, 5), strides=(2, 2), padding='same', use_bias=False))\n",
    "    assert model.output_shape == (None, 14, 14, 64)\n",
    "    model.add(layers.BatchNormalization())\n",
    "    model.add(layers.LeakyReLU())\n",
    "\n",
    "    model.add(layers.Conv2DTranspose(1, (5, 5), strides=(2, 2), padding='same', use_bias=False, activation='tanh'))\n",
    "    assert model.output_shape == (None, 28, 28, 1)\n",
    "\n",
    "    return model"
   ]
  },
  {
   "cell_type": "code",
   "execution_count": 4,
   "metadata": {},
   "outputs": [],
   "source": [
    "def make_discriminator_model():\n",
    "    model = tf.keras.Sequential()\n",
    "    model.add(layers.Conv2D(64, (5, 5), strides=(2, 2), padding='same',\n",
    "                                     input_shape=[28, 28, 1]))\n",
    "    model.add(layers.LeakyReLU())\n",
    "    model.add(layers.Dropout(0.3))\n",
    "\n",
    "    model.add(layers.Conv2D(128, (5, 5), strides=(2, 2), padding='same'))\n",
    "    model.add(layers.LeakyReLU())\n",
    "    model.add(layers.Dropout(0.3))\n",
    "\n",
    "    model.add(layers.Flatten())\n",
    "    model.add(layers.Dense(1))\n",
    "\n",
    "    return model"
   ]
  },
  {
   "cell_type": "code",
   "execution_count": 5,
   "metadata": {},
   "outputs": [
    {
     "name": "stderr",
     "output_type": "stream",
     "text": [
      "2024-11-26 17:28:54.101822: I tensorflow/core/platform/cpu_feature_guard.cc:193] This TensorFlow binary is optimized with oneAPI Deep Neural Network Library (oneDNN) to use the following CPU instructions in performance-critical operations:  AVX2 FMA\n",
      "To enable them in other operations, rebuild TensorFlow with the appropriate compiler flags.\n",
      "2024-11-26 17:28:54.102931: I tensorflow/c/logging.cc:34] DirectML: creating device on adapter 0 (NVIDIA T400 4GB)\n",
      "2024-11-26 17:28:54.388346: I tensorflow/c/logging.cc:34] DirectML: creating device on adapter 1 (Intel(R) Iris(R) Xe Graphics)\n",
      "2024-11-26 17:28:54.486428: I tensorflow/core/common_runtime/pluggable_device/pluggable_device_factory.cc:306] Could not identify NUMA node of platform GPU ID 0, defaulting to 0. Your kernel may not have been built with NUMA support.\n",
      "2024-11-26 17:28:54.486668: I tensorflow/core/common_runtime/pluggable_device/pluggable_device_factory.cc:306] Could not identify NUMA node of platform GPU ID 1, defaulting to 0. Your kernel may not have been built with NUMA support.\n",
      "2024-11-26 17:28:54.486795: W tensorflow/core/common_runtime/pluggable_device/pluggable_device_bfc_allocator.cc:28] Overriding allow_growth setting because force_memory_growth was requested by the device.\n",
      "2024-11-26 17:28:54.486832: I tensorflow/core/common_runtime/pluggable_device/pluggable_device_factory.cc:272] Created TensorFlow device (/job:localhost/replica:0/task:0/device:GPU:0 with 17714 MB memory) -> physical PluggableDevice (device: 0, name: DML, pci bus id: <undefined>)\n",
      "2024-11-26 17:28:54.487321: W tensorflow/core/common_runtime/pluggable_device/pluggable_device_bfc_allocator.cc:28] Overriding allow_growth setting because force_memory_growth was requested by the device.\n",
      "2024-11-26 17:28:54.487356: I tensorflow/core/common_runtime/pluggable_device/pluggable_device_factory.cc:272] Created TensorFlow device (/job:localhost/replica:0/task:0/device:GPU:1 with 14553 MB memory) -> physical PluggableDevice (device: 1, name: DML, pci bus id: <undefined>)\n"
     ]
    }
   ],
   "source": [
    "generator = make_generator_model()\n",
    "discriminator = make_discriminator_model()\n",
    "generator_optimizer = tf.keras.optimizers.Adam(1e-4)\n",
    "discriminator_optimizer = tf.keras.optimizers.Adam(1e-4)"
   ]
  },
  {
   "cell_type": "code",
   "execution_count": null,
   "metadata": {},
   "outputs": [],
   "source": [
    "checkpoint_dir = './training_checkpoints'\n",
    "checkpoint_prefix = os.path.join(checkpoint_dir, \"ckpt\")\n",
    "checkpoint = tf.train.Checkpoint(\n",
    "    generator_optimizer=generator_optimizer,\n",
    "    discriminator_optimizer=discriminator_optimizer,\n",
    "    generator=generator,\n",
    "    discriminator=discriminator\n",
    "    )"
   ]
  },
  {
   "cell_type": "code",
   "execution_count": 7,
   "metadata": {},
   "outputs": [
    {
     "data": {
      "text/plain": [
       "<tensorflow.python.checkpoint.checkpoint.CheckpointLoadStatus at 0x7fabf8c7e760>"
      ]
     },
     "execution_count": 7,
     "metadata": {},
     "output_type": "execute_result"
    }
   ],
   "source": [
    "checkpoint.restore(tf.train.latest_checkpoint(checkpoint_dir))"
   ]
  },
  {
   "cell_type": "markdown",
   "metadata": {},
   "source": [
    "Now, we transfer the weights of discriminator except the last layer to a new model, add a dense layer with 128 units, and add another dense layer with 10 units and softmax activation."
   ]
  },
  {
   "cell_type": "code",
   "execution_count": 8,
   "metadata": {},
   "outputs": [
    {
     "name": "stdout",
     "output_type": "stream",
     "text": [
      "Model: \"sequential_2\"\n",
      "_________________________________________________________________\n",
      " Layer (type)                Output Shape              Param #   \n",
      "=================================================================\n",
      " conv2d (Conv2D)             (None, 14, 14, 64)        1664      \n",
      "                                                                 \n",
      " leaky_re_lu_3 (LeakyReLU)   (None, 14, 14, 64)        0         \n",
      "                                                                 \n",
      " dropout (Dropout)           (None, 14, 14, 64)        0         \n",
      "                                                                 \n",
      " conv2d_1 (Conv2D)           (None, 7, 7, 128)         204928    \n",
      "                                                                 \n",
      " leaky_re_lu_4 (LeakyReLU)   (None, 7, 7, 128)         0         \n",
      "                                                                 \n",
      " dropout_1 (Dropout)         (None, 7, 7, 128)         0         \n",
      "                                                                 \n",
      " flatten (Flatten)           (None, 6272)              0         \n",
      "                                                                 \n",
      " dense_2 (Dense)             (None, 128)               802944    \n",
      "                                                                 \n",
      " dense_3 (Dense)             (None, 10)                1290      \n",
      "                                                                 \n",
      "=================================================================\n",
      "Total params: 1,010,826\n",
      "Trainable params: 804,234\n",
      "Non-trainable params: 206,592\n",
      "_________________________________________________________________\n"
     ]
    }
   ],
   "source": [
    "disc = checkpoint.discriminator\n",
    "\n",
    "new_model = Sequential()\n",
    "for i in range(len(disc.layers) - 1):\n",
    "    new_model.add(disc.layers[i])\n",
    "\n",
    "# freeze the layers \n",
    "for layer in new_model.layers:\n",
    "    layer.trainable = False    \n",
    "\n",
    "new_model.add(Dense(128))\n",
    "new_model.add(Dense(10, activation='softmax'))\n",
    "new_model.summary()"
   ]
  },
  {
   "cell_type": "code",
   "execution_count": 9,
   "metadata": {},
   "outputs": [
    {
     "data": {
      "text/plain": [
       "[<tf.Variable 'dense_2/kernel:0' shape=(6272, 128) dtype=float32, numpy=\n",
       " array([[ 0.02117861, -0.01262695, -0.02099196, ...,  0.00461027,\n",
       "         -0.00266506,  0.0293588 ],\n",
       "        [-0.00628337, -0.01494586,  0.01365256, ...,  0.01601861,\n",
       "         -0.01066783,  0.00755522],\n",
       "        [-0.00775048,  0.02555346, -0.01435698, ...,  0.00019605,\n",
       "          0.00467337, -0.00511559],\n",
       "        ...,\n",
       "        [-0.00726299,  0.01035534, -0.00461954, ...,  0.00734683,\n",
       "         -0.02147423, -0.01930649],\n",
       "        [ 0.00603352, -0.00882063, -0.00282877, ...,  0.02683636,\n",
       "         -0.00277031,  0.00366258],\n",
       "        [ 0.02588844,  0.02573447,  0.01573719, ...,  0.0263838 ,\n",
       "         -0.012235  , -0.03000783]], dtype=float32)>,\n",
       " <tf.Variable 'dense_2/bias:0' shape=(128,) dtype=float32, numpy=\n",
       " array([0., 0., 0., 0., 0., 0., 0., 0., 0., 0., 0., 0., 0., 0., 0., 0., 0.,\n",
       "        0., 0., 0., 0., 0., 0., 0., 0., 0., 0., 0., 0., 0., 0., 0., 0., 0.,\n",
       "        0., 0., 0., 0., 0., 0., 0., 0., 0., 0., 0., 0., 0., 0., 0., 0., 0.,\n",
       "        0., 0., 0., 0., 0., 0., 0., 0., 0., 0., 0., 0., 0., 0., 0., 0., 0.,\n",
       "        0., 0., 0., 0., 0., 0., 0., 0., 0., 0., 0., 0., 0., 0., 0., 0., 0.,\n",
       "        0., 0., 0., 0., 0., 0., 0., 0., 0., 0., 0., 0., 0., 0., 0., 0., 0.,\n",
       "        0., 0., 0., 0., 0., 0., 0., 0., 0., 0., 0., 0., 0., 0., 0., 0., 0.,\n",
       "        0., 0., 0., 0., 0., 0., 0., 0., 0.], dtype=float32)>]"
      ]
     },
     "execution_count": 9,
     "metadata": {},
     "output_type": "execute_result"
    }
   ],
   "source": [
    "# view the initialized weights and bias of the second last dense layer; weights are uniformly randomly generated \n",
    "# and biases are all zeroes by default\n",
    "new_model.layers[-2].weights"
   ]
  },
  {
   "cell_type": "code",
   "execution_count": 10,
   "metadata": {},
   "outputs": [
    {
     "name": "stdout",
     "output_type": "stream",
     "text": [
      "(60000, 28, 28) (60000,) (10000, 28, 28) (10000,) \n",
      "\n",
      "(10000, 28, 28) (10000,) (10000, 28, 28) (10000,)\n"
     ]
    }
   ],
   "source": [
    "(train_img, train_lb), (test_img, test_lb) = tf.keras.datasets.mnist.load_data()\n",
    "\n",
    "print(train_img.shape, train_lb.shape, test_img.shape, test_lb.shape, '\\n')\n",
    "\n",
    "# set random seed\n",
    "np.random.seed(42)\n",
    "trainsize = 10000  # number of training images we use, selected randomly\n",
    "randtrain = np.random.choice(train_img.shape[0], trainsize, replace=False)\n",
    "X_train, y_train = train_img[randtrain], train_lb[randtrain]\n",
    "\n",
    "np.random.seed(10)\n",
    "testsize = 10000  # number of testing images we use, selected randomly\n",
    "randtest = np.random.choice(test_img.shape[0], testsize, replace=False)\n",
    "X_test, y_test = test_img[randtest], test_lb[randtest]\n",
    "\n",
    "print(X_train.shape, y_train.shape, X_test.shape, y_test.shape)"
   ]
  },
  {
   "cell_type": "code",
   "execution_count": 11,
   "metadata": {},
   "outputs": [
    {
     "name": "stderr",
     "output_type": "stream",
     "text": [
      "2024-11-26 17:28:58.614816: W tensorflow/core/framework/cpu_allocator_impl.cc:82] Allocation of 31360000 exceeds 10% of free system memory.\n",
      "2024-11-26 17:28:58.848190: W tensorflow/core/framework/cpu_allocator_impl.cc:82] Allocation of 31360000 exceeds 10% of free system memory.\n"
     ]
    },
    {
     "name": "stdout",
     "output_type": "stream",
     "text": [
      "Epoch 1/7\n"
     ]
    },
    {
     "name": "stderr",
     "output_type": "stream",
     "text": [
      "2024-11-26 17:28:59.655202: I tensorflow/core/grappler/optimizers/custom_graph_optimizer_registry.cc:114] Plugin optimizer for device_type GPU is enabled.\n"
     ]
    },
    {
     "name": "stdout",
     "output_type": "stream",
     "text": [
      " 99/100 [============================>.] - ETA: 0s - loss: 1.4013 - accuracy: 0.6541"
     ]
    },
    {
     "name": "stderr",
     "output_type": "stream",
     "text": [
      "2024-11-26 17:29:08.992047: W tensorflow/core/framework/cpu_allocator_impl.cc:82] Allocation of 31360000 exceeds 10% of free system memory.\n",
      "2024-11-26 17:29:09.044264: W tensorflow/core/framework/cpu_allocator_impl.cc:82] Allocation of 31360000 exceeds 10% of free system memory.\n",
      "2024-11-26 17:29:09.267991: I tensorflow/core/grappler/optimizers/custom_graph_optimizer_registry.cc:114] Plugin optimizer for device_type GPU is enabled.\n"
     ]
    },
    {
     "name": "stdout",
     "output_type": "stream",
     "text": [
      "100/100 [==============================] - 11s 46ms/step - loss: 1.3969 - accuracy: 0.6553 - val_loss: 0.8671 - val_accuracy: 0.8356\n",
      "Epoch 2/7\n",
      "100/100 [==============================] - 4s 43ms/step - loss: 0.7647 - accuracy: 0.8298 - val_loss: 0.6147 - val_accuracy: 0.8667\n",
      "Epoch 3/7\n",
      "100/100 [==============================] - 4s 43ms/step - loss: 0.6020 - accuracy: 0.8546 - val_loss: 0.5119 - val_accuracy: 0.8814\n",
      "Epoch 4/7\n",
      "100/100 [==============================] - 4s 43ms/step - loss: 0.5220 - accuracy: 0.8702 - val_loss: 0.4544 - val_accuracy: 0.8885\n",
      "Epoch 5/7\n",
      "100/100 [==============================] - 4s 45ms/step - loss: 0.4709 - accuracy: 0.8776 - val_loss: 0.4165 - val_accuracy: 0.8952\n",
      "Epoch 6/7\n",
      "100/100 [==============================] - 6s 63ms/step - loss: 0.4381 - accuracy: 0.8850 - val_loss: 0.3902 - val_accuracy: 0.8990\n",
      "Epoch 7/7\n",
      "100/100 [==============================] - 5s 46ms/step - loss: 0.4116 - accuracy: 0.8875 - val_loss: 0.3700 - val_accuracy: 0.9036\n"
     ]
    }
   ],
   "source": [
    "train_images = X_train.reshape((trainsize, 28, 28, 1))\n",
    "train_images = (train_images.astype('float32') - 127.5) / 127.5\n",
    "\n",
    "test_images = X_test.reshape((testsize, 28, 28, 1))\n",
    "test_images = (test_images.astype('float32') - 127.5) / 127.5\n",
    "\n",
    "train_labels = to_categorical(y_train)\n",
    "test_labels = to_categorical(y_test)\n",
    "\n",
    "new_model.compile(optimizer='sgd',\n",
    "                  loss='categorical_crossentropy',\n",
    "                  metrics=['accuracy'])\n",
    "\n",
    "history1 = new_model.fit(train_images, train_labels, batch_size=100, epochs=7,\n",
    "                        validation_data=(test_images, test_labels))\n"
   ]
  },
  {
   "cell_type": "code",
   "execution_count": 12,
   "metadata": {},
   "outputs": [
    {
     "name": "stderr",
     "output_type": "stream",
     "text": [
      "2024-11-26 17:29:38.883683: W tensorflow/core/framework/cpu_allocator_impl.cc:82] Allocation of 31360000 exceeds 10% of free system memory.\n"
     ]
    },
    {
     "name": "stdout",
     "output_type": "stream",
     "text": [
      "Epoch 1/8\n"
     ]
    },
    {
     "name": "stderr",
     "output_type": "stream",
     "text": [
      "2024-11-26 17:29:39.664002: I tensorflow/core/grappler/optimizers/custom_graph_optimizer_registry.cc:114] Plugin optimizer for device_type GPU is enabled.\n"
     ]
    },
    {
     "name": "stdout",
     "output_type": "stream",
     "text": [
      " 99/100 [============================>.] - ETA: 0s - loss: 0.3580 - accuracy: 0.8944"
     ]
    },
    {
     "name": "stderr",
     "output_type": "stream",
     "text": [
      "2024-11-26 17:29:54.166592: I tensorflow/core/grappler/optimizers/custom_graph_optimizer_registry.cc:114] Plugin optimizer for device_type GPU is enabled.\n"
     ]
    },
    {
     "name": "stdout",
     "output_type": "stream",
     "text": [
      "100/100 [==============================] - 16s 60ms/step - loss: 0.3581 - accuracy: 0.8949 - val_loss: 0.3065 - val_accuracy: 0.9117\n",
      "Epoch 2/8\n",
      "100/100 [==============================] - 6s 56ms/step - loss: 0.3176 - accuracy: 0.9063 - val_loss: 0.2844 - val_accuracy: 0.9179\n",
      "Epoch 3/8\n",
      "100/100 [==============================] - 7s 74ms/step - loss: 0.2971 - accuracy: 0.9128 - val_loss: 0.2682 - val_accuracy: 0.9208\n",
      "Epoch 4/8\n",
      "100/100 [==============================] - 6s 57ms/step - loss: 0.2786 - accuracy: 0.9204 - val_loss: 0.2547 - val_accuracy: 0.9266\n",
      "Epoch 5/8\n",
      "100/100 [==============================] - 6s 57ms/step - loss: 0.2649 - accuracy: 0.9211 - val_loss: 0.2427 - val_accuracy: 0.9315\n",
      "Epoch 6/8\n",
      "100/100 [==============================] - 6s 57ms/step - loss: 0.2469 - accuracy: 0.9279 - val_loss: 0.2326 - val_accuracy: 0.9351\n",
      "Epoch 7/8\n",
      "100/100 [==============================] - 6s 58ms/step - loss: 0.2331 - accuracy: 0.9330 - val_loss: 0.2244 - val_accuracy: 0.9372\n",
      "Epoch 8/8\n",
      "100/100 [==============================] - 6s 58ms/step - loss: 0.2213 - accuracy: 0.9355 - val_loss: 0.2107 - val_accuracy: 0.9405\n"
     ]
    }
   ],
   "source": [
    "# unfreeze all layers \n",
    "for layer in new_model.layers:\n",
    "    layer.trainable = True\n",
    "\n",
    "# optimizer=new_model.optimizer\n",
    "# optimizer.learning_rate=0.005\n",
    "    \n",
    "new_model.compile(optimizer='sgd',\n",
    "                  loss='categorical_crossentropy',\n",
    "                  metrics=['accuracy'])\n",
    "\n",
    "history2 = new_model.fit(train_images, train_labels, batch_size=100, epochs=8,\n",
    "                        validation_data=(test_images, test_labels)) \n"
   ]
  },
  {
   "cell_type": "code",
   "execution_count": 13,
   "metadata": {},
   "outputs": [
    {
     "data": {
      "image/png": "[encoded data removed]",
      "text/plain": [
       "<Figure size 640x480 with 1 Axes>"
      ]
     },
     "metadata": {},
     "output_type": "display_data"
    }
   ],
   "source": [
    "accuracy = history1.history['accuracy'] + history2.history['accuracy']\n",
    "val_accuracy = history1.history['val_accuracy'] + history2.history['val_accuracy']\n",
    "\n",
    "plt.figure()\n",
    "plt.plot(accuracy, label='accuracy')\n",
    "plt.plot(val_accuracy, label = 'val_accuracy')\n",
    "plt.xlabel('Epoch')\n",
    "plt.ylabel('Accuracy')\n",
    "plt.ylim([0.3, 1])\n",
    "plt.legend(loc='lower right')\n",
    "plt.show()"
   ]
  },
  {
   "cell_type": "markdown",
   "metadata": {},
   "source": [
    "We can see that, using the tuned discriminator model, both training accuracy and testing are approximately 0.94 after 15 epochs."
   ]
  },
  {
   "cell_type": "code",
   "execution_count": 14,
   "metadata": {},
   "outputs": [
    {
     "name": "stdout",
     "output_type": "stream",
     "text": [
      "actual label: 8\n"
     ]
    },
    {
     "data": {
      "image/png": "[encoded data removed]",
      "text/plain": [
       "<Figure size 640x480 with 1 Axes>"
      ]
     },
     "metadata": {},
     "output_type": "display_data"
    },
    {
     "name": "stderr",
     "output_type": "stream",
     "text": [
      "2024-11-26 17:30:38.084410: I tensorflow/core/grappler/optimizers/custom_graph_optimizer_registry.cc:114] Plugin optimizer for device_type GPU is enabled.\n"
     ]
    },
    {
     "name": "stdout",
     "output_type": "stream",
     "text": [
      "1/1 [==============================] - 3s 3s/step\n",
      "[[5.1546661e-04 4.6938568e-04 1.5255328e-02 8.2626589e-02 2.5355814e-05\n",
      "  2.0551470e-03 1.6611126e-05 1.6826189e-05 8.9721668e-01 1.8026714e-03]]\n",
      "prediction: 8\n"
     ]
    },
    {
     "data": {
      "image/png": "[encoded data removed]",
      "text/plain": [
       "<Figure size 640x480 with 1 Axes>"
      ]
     },
     "metadata": {},
     "output_type": "display_data"
    }
   ],
   "source": [
    "# demonstration: predict the ith test digit\n",
    "i = np.random.randint(0, trainsize)\n",
    "\n",
    "# show the actual ith digit\n",
    "print('actual label:', np.argmax(test_labels[i]))\n",
    "plt.figure()\n",
    "plt.imshow(test_images[i,:,:,0], cmap='gray')\n",
    "plt.show()\n",
    "\n",
    "# predict\n",
    "prediction = new_model.predict(test_images[i].reshape(1,28,28,1))\n",
    "\n",
    "# get probability distribution and classification of the test digit\n",
    "print(prediction)\n",
    "print('prediction:', np.argmax(prediction))\n",
    "\n",
    "# draw the barplot\n",
    "plt.figure()\n",
    "plt.bar(np.arange(0,10).astype('str'), prediction[0,:])\n",
    "plt.show()"
   ]
  },
  {
   "cell_type": "markdown",
   "metadata": {},
   "source": [
    "**Get Confusion Matrix**"
   ]
  },
  {
   "cell_type": "code",
   "execution_count": 15,
   "metadata": {},
   "outputs": [
    {
     "name": "stdout",
     "output_type": "stream",
     "text": [
      "313/313 [==============================] - 6s 17ms/step\n"
     ]
    },
    {
     "name": "stderr",
     "output_type": "stream",
     "text": [
      "2024-11-26 17:30:48.017626: I tensorflow/core/common_runtime/pluggable_device/pluggable_device_factory.cc:306] Could not identify NUMA node of platform GPU ID 0, defaulting to 0. Your kernel may not have been built with NUMA support.\n",
      "2024-11-26 17:30:48.017694: I tensorflow/core/common_runtime/pluggable_device/pluggable_device_factory.cc:306] Could not identify NUMA node of platform GPU ID 1, defaulting to 0. Your kernel may not have been built with NUMA support.\n",
      "2024-11-26 17:30:48.017735: I tensorflow/core/common_runtime/pluggable_device/pluggable_device_factory.cc:272] Created TensorFlow device (/job:localhost/replica:0/task:0/device:GPU:0 with 17714 MB memory) -> physical PluggableDevice (device: 0, name: DML, pci bus id: <undefined>)\n",
      "2024-11-26 17:30:48.017757: I tensorflow/core/common_runtime/pluggable_device/pluggable_device_factory.cc:272] Created TensorFlow device (/job:localhost/replica:0/task:0/device:GPU:1 with 14553 MB memory) -> physical PluggableDevice (device: 1, name: DML, pci bus id: <undefined>)\n",
      "2024-11-26 17:30:48.213691: I tensorflow/core/common_runtime/pluggable_device/pluggable_device_factory.cc:306] Could not identify NUMA node of platform GPU ID 0, defaulting to 0. Your kernel may not have been built with NUMA support.\n",
      "2024-11-26 17:30:48.213853: I tensorflow/core/common_runtime/pluggable_device/pluggable_device_factory.cc:306] Could not identify NUMA node of platform GPU ID 1, defaulting to 0. Your kernel may not have been built with NUMA support.\n",
      "2024-11-26 17:30:48.213904: I tensorflow/core/common_runtime/pluggable_device/pluggable_device_factory.cc:272] Created TensorFlow device (/job:localhost/replica:0/task:0/device:GPU:0 with 17714 MB memory) -> physical PluggableDevice (device: 0, name: DML, pci bus id: <undefined>)\n",
      "2024-11-26 17:30:48.213944: I tensorflow/core/common_runtime/pluggable_device/pluggable_device_factory.cc:272] Created TensorFlow device (/job:localhost/replica:0/task:0/device:GPU:1 with 14553 MB memory) -> physical PluggableDevice (device: 1, name: DML, pci bus id: <undefined>)\n",
      "2024-11-26 17:30:48.220438: I tensorflow/core/common_runtime/pluggable_device/pluggable_device_factory.cc:306] Could not identify NUMA node of platform GPU ID 0, defaulting to 0. Your kernel may not have been built with NUMA support.\n",
      "2024-11-26 17:30:48.220500: I tensorflow/core/common_runtime/pluggable_device/pluggable_device_factory.cc:306] Could not identify NUMA node of platform GPU ID 1, defaulting to 0. Your kernel may not have been built with NUMA support.\n",
      "2024-11-26 17:30:48.220527: I tensorflow/core/common_runtime/pluggable_device/pluggable_device_factory.cc:272] Created TensorFlow device (/job:localhost/replica:0/task:0/device:GPU:0 with 17714 MB memory) -> physical PluggableDevice (device: 0, name: DML, pci bus id: <undefined>)\n",
      "2024-11-26 17:30:48.220546: I tensorflow/core/common_runtime/pluggable_device/pluggable_device_factory.cc:272] Created TensorFlow device (/job:localhost/replica:0/task:0/device:GPU:1 with 14553 MB memory) -> physical PluggableDevice (device: 1, name: DML, pci bus id: <undefined>)\n"
     ]
    }
   ],
   "source": [
    "pred_labels = new_model.predict(test_images).argmax(axis=1)\n",
    "true_labels = test_labels.argmax(axis=1)"
   ]
  },
  {
   "cell_type": "code",
   "execution_count": 16,
   "metadata": {},
   "outputs": [
    {
     "name": "stderr",
     "output_type": "stream",
     "text": [
      "2024-11-26 17:30:48.895712: I tensorflow/core/common_runtime/pluggable_device/pluggable_device_factory.cc:306] Could not identify NUMA node of platform GPU ID 0, defaulting to 0. Your kernel may not have been built with NUMA support.\n",
      "2024-11-26 17:30:48.895785: I tensorflow/core/common_runtime/pluggable_device/pluggable_device_factory.cc:306] Could not identify NUMA node of platform GPU ID 1, defaulting to 0. Your kernel may not have been built with NUMA support.\n",
      "2024-11-26 17:30:48.895835: I tensorflow/core/common_runtime/pluggable_device/pluggable_device_factory.cc:272] Created TensorFlow device (/job:localhost/replica:0/task:0/device:GPU:0 with 17714 MB memory) -> physical PluggableDevice (device: 0, name: DML, pci bus id: <undefined>)\n",
      "2024-11-26 17:30:48.895864: I tensorflow/core/common_runtime/pluggable_device/pluggable_device_factory.cc:272] Created TensorFlow device (/job:localhost/replica:0/task:0/device:GPU:1 with 14553 MB memory) -> physical PluggableDevice (device: 1, name: DML, pci bus id: <undefined>)\n"
     ]
    },
    {
     "data": {
      "text/plain": [
       "array([[ 964,    0,    1,    2,    0,    2,    8,    1,    2,    0],\n",
       "       [   0, 1122,    2,    2,    0,    0,    4,    1,    4,    0],\n",
       "       [  10,    2,  940,   18,   11,    0,   11,   11,   23,    6],\n",
       "       [   2,    1,   14,  944,    1,   11,    3,   12,   14,    8],\n",
       "       [   1,    3,    2,    0,  938,    0,   13,    1,    4,   20],\n",
       "       [   7,    3,    0,   16,    2,  821,   14,    4,   18,    7],\n",
       "       [  10,    4,    1,    1,   14,    6,  919,    0,    3,    0],\n",
       "       [   2,    8,   20,    6,    7,    1,    0,  948,    2,   34],\n",
       "       [   8,    9,    7,   12,    7,    8,    9,   11,  888,   15],\n",
       "       [   9,    6,    2,    8,   28,    6,    1,   16,   12,  921]],\n",
       "      dtype=int32)"
      ]
     },
     "execution_count": 16,
     "metadata": {},
     "output_type": "execute_result"
    }
   ],
   "source": [
    "confusion_mat = tf.math.confusion_matrix(labels=true_labels, predictions=pred_labels).numpy()\n",
    "confusion_mat"
   ]
  },
  {
   "cell_type": "code",
   "execution_count": 17,
   "metadata": {},
   "outputs": [
    {
     "data": {
      "image/png": "[encoded data removed]",
      "text/plain": [
       "<Figure size 640x480 with 2 Axes>"
      ]
     },
     "metadata": {},
     "output_type": "display_data"
    }
   ],
   "source": [
    "import pandas as pd\n",
    "import seaborn as sns\n",
    "\n",
    "confusion_mat_norm = np.around(confusion_mat.astype('float') / np.atleast_2d(confusion_mat.sum(axis=1)).T, decimals=2)\n",
    "\n",
    "classes = np.arange(0,10).astype('str')\n",
    "confusion_mat_df = pd.DataFrame(confusion_mat_norm,\n",
    "                                index = classes, \n",
    "                                columns = classes)\n",
    "\n",
    "figure = plt.figure()\n",
    "sns.heatmap(confusion_mat_df, annot=True, cmap=plt.cm.Blues)\n",
    "plt.tight_layout()\n",
    "plt.ylabel('True label')\n",
    "plt.xlabel('Predicted label')\n",
    "plt.show()"
   ]
  },
  {
   "cell_type": "markdown",
   "metadata": {},
   "source": [
    "**Generate new digits and perform classification on them using our model**"
   ]
  },
  {
   "cell_type": "code",
   "execution_count": 18,
   "metadata": {},
   "outputs": [
    {
     "name": "stderr",
     "output_type": "stream",
     "text": [
      "2024-11-26 17:30:50.712809: I tensorflow/core/common_runtime/pluggable_device/pluggable_device_factory.cc:306] Could not identify NUMA node of platform GPU ID 0, defaulting to 0. Your kernel may not have been built with NUMA support.\n",
      "2024-11-26 17:30:50.712900: I tensorflow/core/common_runtime/pluggable_device/pluggable_device_factory.cc:306] Could not identify NUMA node of platform GPU ID 1, defaulting to 0. Your kernel may not have been built with NUMA support.\n",
      "2024-11-26 17:30:50.712959: I tensorflow/core/common_runtime/pluggable_device/pluggable_device_factory.cc:272] Created TensorFlow device (/job:localhost/replica:0/task:0/device:GPU:0 with 17714 MB memory) -> physical PluggableDevice (device: 0, name: DML, pci bus id: <undefined>)\n",
      "2024-11-26 17:30:50.712990: I tensorflow/core/common_runtime/pluggable_device/pluggable_device_factory.cc:272] Created TensorFlow device (/job:localhost/replica:0/task:0/device:GPU:1 with 14553 MB memory) -> physical PluggableDevice (device: 1, name: DML, pci bus id: <undefined>)\n",
      "2024-11-26 17:30:50.718060: I tensorflow/core/common_runtime/pluggable_device/pluggable_device_factory.cc:306] Could not identify NUMA node of platform GPU ID 0, defaulting to 0. Your kernel may not have been built with NUMA support.\n",
      "2024-11-26 17:30:50.718117: I tensorflow/core/common_runtime/pluggable_device/pluggable_device_factory.cc:306] Could not identify NUMA node of platform GPU ID 1, defaulting to 0. Your kernel may not have been built with NUMA support.\n",
      "2024-11-26 17:30:50.718150: I tensorflow/core/common_runtime/pluggable_device/pluggable_device_factory.cc:272] Created TensorFlow device (/job:localhost/replica:0/task:0/device:GPU:0 with 17714 MB memory) -> physical PluggableDevice (device: 0, name: DML, pci bus id: <undefined>)\n",
      "2024-11-26 17:30:50.718172: I tensorflow/core/common_runtime/pluggable_device/pluggable_device_factory.cc:272] Created TensorFlow device (/job:localhost/replica:0/task:0/device:GPU:1 with 14553 MB memory) -> physical PluggableDevice (device: 1, name: DML, pci bus id: <undefined>)\n"
     ]
    },
    {
     "data": {
      "text/plain": [
       "<matplotlib.image.AxesImage at 0x7fab07f93130>"
      ]
     },
     "execution_count": 18,
     "metadata": {},
     "output_type": "execute_result"
    },
    {
     "data": {
      "image/png": "[encoded data removed]",
      "text/plain": [
       "<Figure size 640x480 with 1 Axes>"
      ]
     },
     "metadata": {},
     "output_type": "display_data"
    }
   ],
   "source": [
    "noi = tf.random.normal([1, 100])\n",
    "sample = checkpoint.generator(noi, training=False)\n",
    "fig = plt.figure()\n",
    "plt.imshow(sample[0, :, :, 0], cmap='gray')"
   ]
  },
  {
   "cell_type": "code",
   "execution_count": 19,
   "metadata": {},
   "outputs": [
    {
     "name": "stdout",
     "output_type": "stream",
     "text": [
      "1/1 [==============================] - 0s 71ms/step\n",
      "[[0.00606514 0.07792143 0.05812542 0.29838458 0.01418889 0.3295483\n",
      "  0.18880163 0.01428105 0.00704792 0.00563565]]\n",
      "prediction: 5\n"
     ]
    },
    {
     "data": {
      "image/png": "[encoded data removed]",
      "text/plain": [
       "<Figure size 640x480 with 1 Axes>"
      ]
     },
     "metadata": {},
     "output_type": "display_data"
    }
   ],
   "source": [
    "new_sample = sample[0, :, :, 0].numpy().reshape(1,28,28,1)\n",
    "new_prediction = new_model.predict(new_sample)\n",
    "\n",
    "# get probability distribution and classification of the test digit\n",
    "print(new_prediction)\n",
    "print('prediction:', np.argmax(new_prediction))\n",
    "\n",
    "# draw the barplot\n",
    "plt.figure()\n",
    "plt.bar(np.arange(0,10).astype('str'), new_prediction[0,:])\n",
    "plt.show()"
   ]
  },
  {
   "cell_type": "code",
   "execution_count": 20,
   "metadata": {},
   "outputs": [],
   "source": [
    "# we can save the numpy array of appropriately generated digits as .npy file,\n",
    "# which could be used for further training\n",
    "np.save('generated_numpy.npy', sample[0, :, :, 0].numpy())"
   ]
  },
  {
   "cell_type": "code",
   "execution_count": 21,
   "metadata": {},
   "outputs": [
    {
     "data": {
      "text/plain": [
       "array([[-0.99524355, -0.9985982 , -0.99962884, -0.9997818 , -0.99997705,\n",
       "        -0.9999707 , -0.99999434, -0.99998415, -0.99998677, -0.99996835,\n",
       "        -0.99999356, -0.99999505, -0.9999975 , -0.99999374, -0.999998  ,\n",
       "        -0.999995  , -0.999986  , -0.99990964, -0.99996036, -0.99992   ,\n",
       "        -0.99993974, -0.99987066, -0.9999763 , -0.9999531 , -0.9999753 ,\n",
       "        -0.99984336, -0.99996257, -0.998922  ],\n",
       "       [-0.99395716, -0.999429  , -0.999685  , -0.9999886 , -0.99999464,\n",
       "        -0.9999972 , -0.99999833, -0.99999934, -0.9999989 , -0.99999917,\n",
       "        -0.9999994 , -0.99999994, -0.9999998 , -0.99999833, -0.99999815,\n",
       "        -0.9999987 , -0.99998945, -0.9999261 , -0.9999203 , -0.9999871 ,\n",
       "        -0.9999645 , -0.99997014, -0.99998814, -0.999998  , -0.9999922 ,\n",
       "        -0.99993676, -0.9999262 , -0.99941796],\n",
       "       [-0.9996174 , -0.9999776 , -0.99999654, -0.99999994, -1.        ,\n",
       "        -1.        , -1.        , -1.        , -1.        , -1.        ,\n",
       "        -1.        , -1.        , -1.        , -1.        , -1.        ,\n",
       "        -0.99999994, -0.9999995 , -0.9999992 , -0.9999963 , -0.99999714,\n",
       "        -0.99999934, -1.        , -1.        , -1.        , -1.        ,\n",
       "        -0.99999994, -0.99999964, -0.9999672 ],\n",
       "       [-0.99797654, -0.9999583 , -0.9999922 , -1.        , -0.99999994,\n",
       "        -1.        , -0.99999994, -0.9999998 , -0.99999976, -1.        ,\n",
       "        -1.        , -1.        , -0.99999994, -0.99999917, -0.99998045,\n",
       "        -0.9999384 , -0.99953735, -0.9995518 , -0.9992632 , -0.9998479 ,\n",
       "        -0.9999782 , -0.99999994, -0.9999999 , -1.        , -0.9999994 ,\n",
       "        -0.99999934, -0.9999928 , -0.999929  ],\n",
       "       [-0.9998734 , -0.9999977 , -0.99999994, -1.        , -1.        ,\n",
       "        -1.        , -1.        , -0.99999994, -1.        , -1.        ,\n",
       "        -1.        , -0.99999994, -0.99999475, -0.9999591 , -0.9987351 ,\n",
       "        -0.99505097, -0.9734831 , -0.99555975, -0.9988043 , -0.9998953 ,\n",
       "        -0.9999995 , -1.        , -1.        , -1.        , -0.99999994,\n",
       "        -0.999999  , -0.9999991 , -0.99997723],\n",
       "       [-0.9997783 , -0.9999992 , -0.99999994, -1.        , -1.        ,\n",
       "        -1.        , -1.        , -1.        , -1.        , -1.        ,\n",
       "        -1.        , -0.99999976, -0.9999843 , -0.9996588 , -0.9978658 ,\n",
       "        -0.9994087 , -0.99453115, -0.9615649 , -0.99731386, -0.99999326,\n",
       "        -1.        , -1.        , -1.        , -1.        , -0.99999994,\n",
       "        -0.99999875, -0.99999887, -0.9999783 ],\n",
       "       [-0.99999076, -0.99999994, -1.        , -1.        , -1.        ,\n",
       "        -1.        , -1.        , -1.        , -1.        , -1.        ,\n",
       "        -1.        , -0.9998809 , -0.9800054 , -0.9990717 , -0.9995147 ,\n",
       "        -0.9998978 , -0.9959055 , -0.997198  , -0.99824035, -0.9999989 ,\n",
       "        -1.        , -1.        , -1.        , -1.        , -0.99999994,\n",
       "        -0.9999999 , -0.9999995 , -0.9999928 ],\n",
       "       [-0.9999151 , -0.9999993 , -0.9999998 , -1.        , -0.99999994,\n",
       "        -0.99999994, -0.99999994, -1.        , -1.        , -1.        ,\n",
       "        -0.99992245, -0.72085273, -0.28732258, -0.7030226 , -0.99849135,\n",
       "        -0.99980795, -0.9928821 , -0.89789397, -0.9630225 , -0.9999765 ,\n",
       "        -1.        , -1.        , -1.        , -0.99999994, -0.99998736,\n",
       "        -0.9999822 , -0.99997145, -0.9999577 ],\n",
       "       [-0.9999939 , -0.9999989 , -0.9999998 , -0.9999998 , -0.99999994,\n",
       "        -1.        , -1.        , -1.        , -1.        , -1.        ,\n",
       "        -0.99971074,  0.22609437,  0.10059726, -0.9991167 , -0.99999475,\n",
       "        -0.99999654, -0.98926324, -0.9562232 , -0.99305063, -0.99999934,\n",
       "        -1.        , -1.        , -1.        , -0.99999994, -0.99999213,\n",
       "        -0.99999255, -0.9999986 , -0.99999726],\n",
       "       [-0.99989855, -0.9999939 , -0.9999899 , -0.99999934, -0.9999998 ,\n",
       "        -1.        , -1.        , -1.        , -1.        , -0.9999995 ,\n",
       "        -0.96766245, -0.95224077, -0.99965453, -0.999997  , -0.9999997 ,\n",
       "        -0.99999225, -0.98705095, -0.94138056, -0.99455744, -0.99999887,\n",
       "        -1.        , -1.        , -0.99999994, -0.99999934, -0.9999971 ,\n",
       "        -0.9999969 , -0.99999887, -0.9999943 ],\n",
       "       [-0.9999911 , -0.9999914 , -0.9999961 , -0.99999964, -1.        ,\n",
       "        -1.        , -1.        , -1.        , -1.        , -0.99999803,\n",
       "        -0.99648964, -0.98823005, -0.99997216, -1.        , -0.99999994,\n",
       "        -0.99990124, -0.80469936, -0.8837142 , -0.99345666, -0.99999934,\n",
       "        -1.        , -1.        , -0.99999976, -0.9999743 , -0.9999757 ,\n",
       "        -0.99999976, -0.9999999 , -0.9999982 ],\n",
       "       [-0.9998851 , -0.9999837 , -0.99998266, -0.9999985 , -0.9999998 ,\n",
       "        -1.        , -1.        , -1.        , -0.9999961 , -0.99739933,\n",
       "        -0.92071086, -0.99391824, -0.9999828 , -0.9999961 , -0.9997401 ,\n",
       "        -0.91784674,  0.7348994 ,  0.35628366, -0.9887076 , -0.9999652 ,\n",
       "        -0.999992  , -0.99999416, -0.99770236, -0.9985807 , -0.9997109 ,\n",
       "        -0.9999945 , -0.9999924 , -0.9999834 ],\n",
       "       [-0.9999929 , -0.99998385, -0.999996  , -0.99999946, -1.        ,\n",
       "        -1.        , -1.        , -0.9999999 , -0.99988157, -0.99912286,\n",
       "        -0.99434805, -0.99994385, -0.99999905, -0.9999996 , -0.99922365,\n",
       "        -0.416412  ,  0.9202243 , -0.8113568 , -0.99911255, -0.9999867 ,\n",
       "        -0.99969023, -0.9999516 , -0.9967817 , -0.9993089 , -0.99997383,\n",
       "        -0.99999917, -0.99999845, -0.99998355],\n",
       "       [-0.9998237 , -0.9999832 , -0.999972  , -0.9999998 , -0.99999994,\n",
       "        -1.        , -1.        , -0.9999998 , -0.99997354, -0.9999898 ,\n",
       "        -0.99991167, -0.9999994 , -0.9999997 , -0.9999041 , -0.8880167 ,\n",
       "        -0.6734233 , -0.826496  , -0.9939396 , -0.999853  , -0.9997416 ,\n",
       "        -0.9931681 , -0.9959072 , -0.9959269 , -0.999981  , -0.9999993 ,\n",
       "        -0.99999875, -0.9999931 , -0.9998302 ],\n",
       "       [-0.99997854, -0.99999225, -0.9999985 , -1.        , -1.        ,\n",
       "        -1.        , -1.        , -0.9999992 , -0.9999884 , -0.99999934,\n",
       "        -0.99999994, -0.99999994, -0.9999998 , -0.9998334 , -0.80261993,\n",
       "        -0.30918705, -0.8755849 , -0.9997461 , -0.99917483, -0.9897346 ,\n",
       "        -0.73213303, -0.98809725, -0.9999039 , -0.999999  , -0.99999994,\n",
       "        -1.        , -0.9999962 , -0.9998129 ],\n",
       "       [-0.9995644 , -0.99998313, -0.9999969 , -1.        , -1.        ,\n",
       "        -1.        , -0.9999988 , -0.9999148 , -0.99970096, -0.99997914,\n",
       "        -0.9999982 , -0.99999684, -0.9999061 , -0.94341743,  0.653412  ,\n",
       "         0.16043687, -0.9075469 , -0.9864286 , -0.92492276, -0.01157975,\n",
       "         0.7134197 , -0.14696103, -0.99425334, -0.99998635, -0.99999815,\n",
       "        -0.9999998 , -0.9999001 , -0.99949574],\n",
       "       [-0.99988467, -0.99999076, -0.9999998 , -1.        , -1.        ,\n",
       "        -1.        , -0.9999996 , -0.99987817, -0.999867  , -0.9999994 ,\n",
       "        -0.9999997 , -0.99998116, -0.9890864 , -0.83583915,  0.4646591 ,\n",
       "        -0.90767777, -0.9879317 , -0.99834484, -0.65703964,  0.8693    ,\n",
       "         0.99222183, -0.76193225, -0.9995538 , -0.9999993 , -0.99999994,\n",
       "        -1.        , -0.99999666, -0.9998825 ],\n",
       "       [-0.99949676, -0.99999684, -0.99999946, -1.        , -0.99999994,\n",
       "        -0.99999994, -0.9999542 , -0.99999666, -0.99999833, -0.9999999 ,\n",
       "        -0.9999965 , -0.9998346 , -0.98932505, -0.9743359 , -0.893495  ,\n",
       "        -0.9981095 , -0.9988974 , -0.97452337,  0.52110445,  0.9282844 ,\n",
       "         0.87570024, -0.858746  , -0.9997491 , -0.9999994 , -0.99999994,\n",
       "        -0.9999996 , -0.99998313, -0.9996913 ],\n",
       "       [-0.9999607 , -0.99999917, -0.99999994, -1.        , -1.        ,\n",
       "        -0.99999994, -0.99999994, -0.99999994, -1.        , -1.        ,\n",
       "        -0.9999995 , -0.99836713, -0.9635497 , -0.9939912 , -0.99917114,\n",
       "        -0.9999471 , -0.9995732 , -0.9871678 ,  0.8616382 ,  0.9935094 ,\n",
       "         0.98590314, -0.8758004 , -0.9997163 , -0.9999978 , -0.9999998 ,\n",
       "        -1.        , -0.99999726, -0.9998647 ],\n",
       "       [-0.9997366 , -0.9999946 , -0.999998  , -0.9999998 , -0.9999976 ,\n",
       "        -0.9999974 , -0.99999815, -0.9999999 , -0.9999999 , -0.99999833,\n",
       "        -0.99946034, -0.8334402 , -0.62693995, -0.7041558 , -0.9885226 ,\n",
       "        -0.99621624, -0.95231354,  0.1557759 ,  0.97779644,  0.996801  ,\n",
       "         0.9480431 ,  0.02764487, -0.96451396, -0.9997671 , -0.999967  ,\n",
       "        -0.99999803, -0.9998677 , -0.99952525],\n",
       "       [-0.999934  , -0.9999703 , -0.99999356, -0.99999505, -0.9999986 ,\n",
       "        -0.9999993 , -0.9999999 , -0.99999994, -0.9999999 , -0.99999774,\n",
       "        -0.98654413,  0.6487384 ,  0.72275674, -0.69331837, -0.9635248 ,\n",
       "        -0.9628315 ,  0.02926075,  0.68859637,  0.99387884,  0.99466956,\n",
       "         0.9926748 , -0.6601594 , -0.99231607, -0.9999022 , -0.9999972 ,\n",
       "        -0.9999992 , -0.9999836 , -0.99978554],\n",
       "       [-0.99928707, -0.9999207 , -0.9997996 , -0.9999919 , -0.99999636,\n",
       "        -1.        , -0.9999998 , -0.99999994, -0.9999981 , -0.9998924 ,\n",
       "        -0.26092392, -0.36193067, -0.8225446 , -0.8450825 , -0.5063188 ,\n",
       "        -0.19509935,  0.5468409 ,  0.8871325 ,  0.9867016 ,  0.84983075,\n",
       "         0.1746434 , -0.96219945, -0.9958271 , -0.9999681 , -0.99999887,\n",
       "        -0.99999726, -0.999931  , -0.9989716 ],\n",
       "       [-0.99988425, -0.99991685, -0.9999711 , -0.9999993 , -1.        ,\n",
       "        -1.        , -1.        , -1.        , -0.99999887, -0.9997969 ,\n",
       "        -0.972106  , -0.76907444, -0.8920696 , -0.9326045 , -0.18904942,\n",
       "         0.74631333,  0.91868556,  0.7149427 ,  0.56986034, -0.34612143,\n",
       "        -0.82272905, -0.999399  , -0.99997973, -0.9999973 , -0.9999999 ,\n",
       "        -0.99999994, -0.9999929 , -0.9996545 ],\n",
       "       [-0.9993034 , -0.99996024, -0.99997944, -0.9999997 , -0.9999999 ,\n",
       "        -1.        , -1.        , -0.99999994, -0.9999706 , -0.9995049 ,\n",
       "        -0.9931863 , -0.9971582 , -0.9961387 , -0.9934868 , -0.6325562 ,\n",
       "         0.45440662,  0.4581765 , -0.2526034 , -0.7767142 , -0.97445965,\n",
       "        -0.99540025, -0.99998915, -0.99998397, -0.99999964, -0.9999993 ,\n",
       "        -0.99999994, -0.9999578 , -0.9996898 ],\n",
       "       [-0.9999117 , -0.99997526, -0.99999934, -1.        , -1.        ,\n",
       "        -1.        , -1.        , -0.99999994, -0.99999917, -0.99999654,\n",
       "        -0.99999624, -0.9999976 , -0.99999857, -0.99998176, -0.9984156 ,\n",
       "        -0.9796053 , -0.9819635 , -0.99479467, -0.9993973 , -0.9999704 ,\n",
       "        -0.9999991 , -1.        , -1.        , -1.        , -1.        ,\n",
       "        -1.        , -0.99999964, -0.99997604],\n",
       "       [-0.99885225, -0.99997467, -0.9999916 , -0.9999999 , -0.9999999 ,\n",
       "        -1.        , -0.9999998 , -0.9999999 , -0.9999963 , -0.9999999 ,\n",
       "        -0.9999955 , -0.9999998 , -0.999998  , -0.99999756, -0.9988067 ,\n",
       "        -0.99986833, -0.99972093, -0.99993265, -0.9991711 , -0.99999124,\n",
       "        -0.99999374, -1.        , -0.9999999 , -1.        , -1.        ,\n",
       "        -0.9999999 , -0.99998385, -0.9997989 ],\n",
       "       [-0.9996524 , -0.9999637 , -0.9999968 , -0.9999999 , -1.        ,\n",
       "        -0.99999994, -0.99999994, -0.9999993 , -0.99999905, -0.99999934,\n",
       "        -0.99999994, -0.99999994, -0.9999998 , -0.99999535, -0.99998283,\n",
       "        -0.99995685, -0.999963  , -0.99959046, -0.999678  , -0.9999511 ,\n",
       "        -0.9999954 , -0.9999992 , -0.99999994, -0.9999999 , -0.9999998 ,\n",
       "        -0.9999973 , -0.999963  , -0.9981299 ],\n",
       "       [-0.9900197 , -0.9991513 , -0.9993774 , -0.9999609 , -0.9998563 ,\n",
       "        -0.99991566, -0.9997785 , -0.9998144 , -0.99952644, -0.99986565,\n",
       "        -0.99991643, -0.9999579 , -0.9995977 , -0.9995158 , -0.9972262 ,\n",
       "        -0.998835  , -0.9958673 , -0.9936787 , -0.9768359 , -0.9966244 ,\n",
       "        -0.99573183, -0.9996602 , -0.99889266, -0.99979305, -0.9994086 ,\n",
       "        -0.99862534, -0.977914  , -0.96447426]], dtype=float32)"
      ]
     },
     "execution_count": 21,
     "metadata": {},
     "output_type": "execute_result"
    }
   ],
   "source": [
    "# upload the saved numpy array\n",
    "arr = np.load('generated_numpy.npy')\n",
    "arr"
   ]
  }
 ],
 "metadata": {
  "kernelspec": {
   "display_name": "Python 3 (ipykernel)",
   "language": "python",
   "name": "python3"
  },
  "language_info": {
   "codemirror_mode": {
    "name": "ipython",
    "version": 3
   },
   "file_extension": ".py",
   "mimetype": "text/x-python",
   "name": "python",
   "nbconvert_exporter": "python",
   "pygments_lexer": "ipython3",
   "version": "3.9.20"
  }
 },
 "nbformat": 4,
 "nbformat_minor": 4
}
