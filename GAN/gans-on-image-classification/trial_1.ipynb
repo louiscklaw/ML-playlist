{
 "cells": [
  {
   "cell_type": "code",
   "execution_count": 1,
   "metadata": {},
   "outputs": [
    {
     "name": "stderr",
     "output_type": "stream",
     "text": [
      "2024-11-25 13:17:46.717241: I tensorflow/core/platform/cpu_feature_guard.cc:193] This TensorFlow binary is optimized with oneAPI Deep Neural Network Library (oneDNN) to use the following CPU instructions in performance-critical operations:  AVX2 AVX512F AVX512_VNNI FMA\n",
      "To enable them in other operations, rebuild TensorFlow with the appropriate compiler flags.\n",
      "2024-11-25 13:17:48.152504: I tensorflow/core/util/util.cc:169] oneDNN custom operations are on. You may see slightly different numerical results due to floating-point round-off errors from different computation orders. To turn them off, set the environment variable `TF_ENABLE_ONEDNN_OPTS=0`.\n",
      "2024-11-25 13:17:50.193517: I tensorflow/c/logging.cc:34] Successfully opened dynamic library libdirectml.d6f03b303ac3c4f2eeb8ca631688c9757b361310.so\n",
      "2024-11-25 13:17:50.193594: I tensorflow/c/logging.cc:34] Successfully opened dynamic library libdxcore.so\n",
      "2024-11-25 13:17:50.197313: I tensorflow/c/logging.cc:34] Successfully opened dynamic library libd3d12.so\n",
      "2024-11-25 13:17:50.256166: I tensorflow/c/logging.cc:34] DirectML device enumeration: found 1 compatible adapters.\n"
     ]
    }
   ],
   "source": [
    "%matplotlib inline\n",
    "from matplotlib import pyplot as plt\n",
    "import numpy as np\n",
    "import tensorflow as tf\n",
    "from tensorflow import keras\n",
    "from tensorflow.keras import Sequential, layers\n",
    "from tensorflow.keras.layers import Conv2D, MaxPooling2D, Flatten, Dense\n",
    "from tensorflow.keras.utils import to_categorical"
   ]
  },
  {
   "cell_type": "code",
   "execution_count": 2,
   "metadata": {},
   "outputs": [],
   "source": [
    "import glob\n",
    "import os\n",
    "import PIL\n",
    "import time\n",
    "\n",
    "from IPython import display"
   ]
  },
  {
   "cell_type": "code",
   "execution_count": 3,
   "metadata": {},
   "outputs": [],
   "source": [
    "def make_generator_model():\n",
    "    model = tf.keras.Sequential()\n",
    "    model.add(layers.Dense(7*7*256, use_bias=False, input_shape=(100,)))\n",
    "    model.add(layers.BatchNormalization())\n",
    "    model.add(layers.LeakyReLU())\n",
    "\n",
    "    model.add(layers.Reshape((7, 7, 256)))\n",
    "    assert model.output_shape == (None, 7, 7, 256) # Note: None is the batch size\n",
    "\n",
    "    model.add(layers.Conv2DTranspose(128, (5, 5), strides=(1, 1), padding='same', use_bias=False))\n",
    "    assert model.output_shape == (None, 7, 7, 128)\n",
    "    model.add(layers.BatchNormalization())\n",
    "    model.add(layers.LeakyReLU())\n",
    "\n",
    "    model.add(layers.Conv2DTranspose(64, (5, 5), strides=(2, 2), padding='same', use_bias=False))\n",
    "    assert model.output_shape == (None, 14, 14, 64)\n",
    "    model.add(layers.BatchNormalization())\n",
    "    model.add(layers.LeakyReLU())\n",
    "\n",
    "    model.add(layers.Conv2DTranspose(1, (5, 5), strides=(2, 2), padding='same', use_bias=False, activation='tanh'))\n",
    "    assert model.output_shape == (None, 28, 28, 1)\n",
    "\n",
    "    return model"
   ]
  },
  {
   "cell_type": "code",
   "execution_count": 4,
   "metadata": {},
   "outputs": [],
   "source": [
    "def make_discriminator_model():\n",
    "    model = tf.keras.Sequential()\n",
    "    model.add(layers.Conv2D(64, (5, 5), strides=(2, 2), padding='same',\n",
    "                                     input_shape=[28, 28, 1]))\n",
    "    model.add(layers.LeakyReLU())\n",
    "    model.add(layers.Dropout(0.3))\n",
    "\n",
    "    model.add(layers.Conv2D(128, (5, 5), strides=(2, 2), padding='same'))\n",
    "    model.add(layers.LeakyReLU())\n",
    "    model.add(layers.Dropout(0.3))\n",
    "\n",
    "    model.add(layers.Flatten())\n",
    "    model.add(layers.Dense(1))\n",
    "\n",
    "    return model"
   ]
  },
  {
   "cell_type": "code",
   "execution_count": 5,
   "metadata": {},
   "outputs": [
    {
     "name": "stderr",
     "output_type": "stream",
     "text": [
      "2024-11-25 13:17:51.146274: I tensorflow/core/platform/cpu_feature_guard.cc:193] This TensorFlow binary is optimized with oneAPI Deep Neural Network Library (oneDNN) to use the following CPU instructions in performance-critical operations:  AVX2 AVX512F AVX512_VNNI FMA\n",
      "To enable them in other operations, rebuild TensorFlow with the appropriate compiler flags.\n",
      "2024-11-25 13:17:51.146614: I tensorflow/c/logging.cc:34] DirectML: creating device on adapter 0 (Intel(R) Iris(R) Xe Graphics)\n",
      "2024-11-25 13:17:51.177893: I tensorflow/core/common_runtime/pluggable_device/pluggable_device_factory.cc:306] Could not identify NUMA node of platform GPU ID 0, defaulting to 0. Your kernel may not have been built with NUMA support.\n",
      "2024-11-25 13:17:51.177945: W tensorflow/core/common_runtime/pluggable_device/pluggable_device_bfc_allocator.cc:28] Overriding allow_growth setting because force_memory_growth was requested by the device.\n",
      "2024-11-25 13:17:51.177969: I tensorflow/core/common_runtime/pluggable_device/pluggable_device_factory.cc:272] Created TensorFlow device (/job:localhost/replica:0/task:0/device:GPU:0 with 14539 MB memory) -> physical PluggableDevice (device: 0, name: DML, pci bus id: <undefined>)\n"
     ]
    }
   ],
   "source": [
    "generator = make_generator_model()\n",
    "discriminator = make_discriminator_model()\n",
    "generator_optimizer = tf.keras.optimizers.Adam(1e-4)\n",
    "discriminator_optimizer = tf.keras.optimizers.Adam(1e-4)"
   ]
  },
  {
   "cell_type": "code",
   "execution_count": 6,
   "metadata": {},
   "outputs": [],
   "source": [
    "checkpoint_dir = './training_checkpoints'\n",
    "checkpoint_prefix = os.path.join(checkpoint_dir, \"ckpt\")\n",
    "checkpoint = tf.train.Checkpoint(generator_optimizer=generator_optimizer,\n",
    "                                 discriminator_optimizer=discriminator_optimizer,\n",
    "                                 generator=generator,\n",
    "                                 discriminator=discriminator)"
   ]
  },
  {
   "cell_type": "code",
   "execution_count": 7,
   "metadata": {},
   "outputs": [
    {
     "data": {
      "text/plain": [
       "<tensorflow.python.checkpoint.checkpoint.CheckpointLoadStatus at 0x7f367e21c640>"
      ]
     },
     "execution_count": 7,
     "metadata": {},
     "output_type": "execute_result"
    }
   ],
   "source": [
    "checkpoint.restore(tf.train.latest_checkpoint(checkpoint_dir))"
   ]
  },
  {
   "cell_type": "code",
   "execution_count": 8,
   "metadata": {},
   "outputs": [
    {
     "name": "stderr",
     "output_type": "stream",
     "text": [
      "2024-11-25 13:17:52.057573: I tensorflow/core/common_runtime/pluggable_device/pluggable_device_factory.cc:306] Could not identify NUMA node of platform GPU ID 0, defaulting to 0. Your kernel may not have been built with NUMA support.\n",
      "2024-11-25 13:17:52.057657: I tensorflow/core/common_runtime/pluggable_device/pluggable_device_factory.cc:272] Created TensorFlow device (/job:localhost/replica:0/task:0/device:GPU:0 with 14539 MB memory) -> physical PluggableDevice (device: 0, name: DML, pci bus id: <undefined>)\n",
      "2024-11-25 13:17:52.061294: I tensorflow/core/common_runtime/pluggable_device/pluggable_device_factory.cc:306] Could not identify NUMA node of platform GPU ID 0, defaulting to 0. Your kernel may not have been built with NUMA support.\n",
      "2024-11-25 13:17:52.061369: I tensorflow/core/common_runtime/pluggable_device/pluggable_device_factory.cc:272] Created TensorFlow device (/job:localhost/replica:0/task:0/device:GPU:0 with 14539 MB memory) -> physical PluggableDevice (device: 0, name: DML, pci bus id: <undefined>)\n"
     ]
    },
    {
     "data": {
      "text/plain": [
       "<matplotlib.image.AxesImage at 0x7f367c5bf820>"
      ]
     },
     "execution_count": 8,
     "metadata": {},
     "output_type": "execute_result"
    },
    {
     "data": {
      "image/png": "[encoded data removed]",
      "text/plain": [
       "<Figure size 640x480 with 1 Axes>"
      ]
     },
     "metadata": {},
     "output_type": "display_data"
    }
   ],
   "source": [
    "noi = tf.random.normal([1, 100])\n",
    "sample = checkpoint.generator(noi, training=False)\n",
    "plt.imshow(sample[0, :, :, 0], cmap='gray')"
   ]
  },
  {
   "cell_type": "code",
   "execution_count": 9,
   "metadata": {},
   "outputs": [
    {
     "name": "stdout",
     "output_type": "stream",
     "text": [
      "Model: \"sequential_1\"\n",
      "_________________________________________________________________\n",
      " Layer (type)                Output Shape              Param #   \n",
      "=================================================================\n",
      " conv2d (Conv2D)             (None, 14, 14, 64)        1664      \n",
      "                                                                 \n",
      " leaky_re_lu_3 (LeakyReLU)   (None, 14, 14, 64)        0         \n",
      "                                                                 \n",
      " dropout (Dropout)           (None, 14, 14, 64)        0         \n",
      "                                                                 \n",
      " conv2d_1 (Conv2D)           (None, 7, 7, 128)         204928    \n",
      "                                                                 \n",
      " leaky_re_lu_4 (LeakyReLU)   (None, 7, 7, 128)         0         \n",
      "                                                                 \n",
      " dropout_1 (Dropout)         (None, 7, 7, 128)         0         \n",
      "                                                                 \n",
      " flatten (Flatten)           (None, 6272)              0         \n",
      "                                                                 \n",
      " dense_1 (Dense)             (None, 1)                 6273      \n",
      "                                                                 \n",
      "=================================================================\n",
      "Total params: 212,865\n",
      "Trainable params: 212,865\n",
      "Non-trainable params: 0\n",
      "_________________________________________________________________\n"
     ]
    }
   ],
   "source": [
    "disc = checkpoint.discriminator\n",
    "disc.summary()"
   ]
  },
  {
   "cell_type": "code",
   "execution_count": 10,
   "metadata": {},
   "outputs": [
    {
     "name": "stdout",
     "output_type": "stream",
     "text": [
      "tf.Tensor([[-1.3677133]], shape=(1, 1), dtype=float32)\n"
     ]
    }
   ],
   "source": [
    "val = disc(sample)\n",
    "print (val)"
   ]
  },
  {
   "cell_type": "markdown",
   "metadata": {},
   "source": [
    "Now, we transfer the weights of discriminator to a new model, with the only difference being that the new model's last dense layer has 10 parameters instead of 1."
   ]
  },
  {
   "cell_type": "code",
   "execution_count": 11,
   "metadata": {},
   "outputs": [
    {
     "name": "stdout",
     "output_type": "stream",
     "text": [
      "Model: \"sequential_2\"\n",
      "_________________________________________________________________\n",
      " Layer (type)                Output Shape              Param #   \n",
      "=================================================================\n",
      " conv2d (Conv2D)             (None, 14, 14, 64)        1664      \n",
      "                                                                 \n",
      " leaky_re_lu_3 (LeakyReLU)   (None, 14, 14, 64)        0         \n",
      "                                                                 \n",
      " dropout (Dropout)           (None, 14, 14, 64)        0         \n",
      "                                                                 \n",
      " conv2d_1 (Conv2D)           (None, 7, 7, 128)         204928    \n",
      "                                                                 \n",
      " leaky_re_lu_4 (LeakyReLU)   (None, 7, 7, 128)         0         \n",
      "                                                                 \n",
      " dropout_1 (Dropout)         (None, 7, 7, 128)         0         \n",
      "                                                                 \n",
      " flatten (Flatten)           (None, 6272)              0         \n",
      "                                                                 \n",
      " dense_2 (Dense)             (None, 10)                62730     \n",
      "                                                                 \n",
      "=================================================================\n",
      "Total params: 269,322\n",
      "Trainable params: 62,730\n",
      "Non-trainable params: 206,592\n",
      "_________________________________________________________________\n"
     ]
    }
   ],
   "source": [
    "new_model = Sequential()\n",
    "\n",
    "for i in range(len(disc.layers) - 1):\n",
    "    new_model.add(disc.layers[i])\n",
    "\n",
    "# Freeze the layers \n",
    "for layer in new_model.layers:\n",
    "    layer.trainable = False    \n",
    "    \n",
    "new_model.add(Dense(10, activation='softmax'))\n",
    "new_model.summary()"
   ]
  },
  {
   "cell_type": "code",
   "execution_count": 12,
   "metadata": {},
   "outputs": [
    {
     "data": {
      "text/plain": [
       "[<tf.Variable 'dense_2/kernel:0' shape=(6272, 10) dtype=float32, numpy=\n",
       " array([[ 2.34944671e-02,  2.52266861e-02,  1.86750293e-02, ...,\n",
       "          5.39593771e-03,  1.79174878e-02,  2.43104249e-03],\n",
       "        [ 2.25978196e-02, -1.49719547e-02,  7.72564486e-03, ...,\n",
       "          9.90088284e-03,  2.58002020e-02, -2.16636229e-02],\n",
       "        [ 4.15612012e-03,  2.77110152e-02, -1.38774682e-02, ...,\n",
       "         -1.38671976e-02, -2.91770101e-02, -2.33873725e-05],\n",
       "        ...,\n",
       "        [-1.06860623e-02, -1.98180191e-02,  3.43845785e-03, ...,\n",
       "         -2.21977718e-02, -1.51904095e-02,  1.59620121e-03],\n",
       "        [ 2.96808369e-02, -2.41024308e-02, -1.23023782e-02, ...,\n",
       "          1.34622566e-02, -8.16959329e-03, -1.39416941e-03],\n",
       "        [ 1.96125992e-02,  6.05615228e-03, -5.58742695e-03, ...,\n",
       "          1.96994655e-02,  1.04560331e-03, -2.66254228e-02]], dtype=float32)>,\n",
       " <tf.Variable 'dense_2/bias:0' shape=(10,) dtype=float32, numpy=array([0., 0., 0., 0., 0., 0., 0., 0., 0., 0.], dtype=float32)>]"
      ]
     },
     "execution_count": 12,
     "metadata": {},
     "output_type": "execute_result"
    }
   ],
   "source": [
    "# view the initialized weights and bias of the last dense layer; weights are uniformly randomly generated \n",
    "# and biases are all zeroes by default\n",
    "new_model.layers[-1].weights"
   ]
  },
  {
   "cell_type": "code",
   "execution_count": 13,
   "metadata": {},
   "outputs": [
    {
     "name": "stdout",
     "output_type": "stream",
     "text": [
      "(60000, 28, 28) (60000,) (10000, 28, 28) (10000,) \n",
      "\n",
      "(10000, 28, 28) (10000,) (10000, 28, 28) (10000,)\n"
     ]
    }
   ],
   "source": [
    "(train_img, train_lb), (test_img, test_lb) = tf.keras.datasets.mnist.load_data()\n",
    "\n",
    "print(train_img.shape, train_lb.shape, test_img.shape, test_lb.shape, '\\n')\n",
    "\n",
    "# set random seed\n",
    "np.random.seed(42)\n",
    "trainsize = 10000  # number of training images we use, selected randomly\n",
    "randtrain = np.random.choice(train_img.shape[0], trainsize, replace=False)\n",
    "X_train, y_train = train_img[randtrain], train_lb[randtrain]\n",
    "\n",
    "np.random.seed(10)\n",
    "testsize = 10000  # number of testing images we use, selected randomly\n",
    "randtest = np.random.choice(test_img.shape[0], testsize, replace=False)\n",
    "X_test, y_test = test_img[randtest], test_lb[randtest]\n",
    "\n",
    "print(X_train.shape, y_train.shape, X_test.shape, y_test.shape)"
   ]
  },
  {
   "cell_type": "code",
   "execution_count": 14,
   "metadata": {},
   "outputs": [
    {
     "name": "stdout",
     "output_type": "stream",
     "text": [
      "Epoch 1/15\n"
     ]
    },
    {
     "name": "stderr",
     "output_type": "stream",
     "text": [
      "2024-11-25 13:17:57.310154: I tensorflow/core/grappler/optimizers/custom_graph_optimizer_registry.cc:114] Plugin optimizer for device_type GPU is enabled.\n"
     ]
    },
    {
     "name": "stdout",
     "output_type": "stream",
     "text": [
      " 98/100 [============================>.] - ETA: 0s - loss: 1.7252 - accuracy: 0.5678"
     ]
    },
    {
     "name": "stderr",
     "output_type": "stream",
     "text": [
      "2024-11-25 13:18:03.874582: I tensorflow/core/grappler/optimizers/custom_graph_optimizer_registry.cc:114] Plugin optimizer for device_type GPU is enabled.\n"
     ]
    },
    {
     "name": "stdout",
     "output_type": "stream",
     "text": [
      "100/100 [==============================] - 8s 37ms/step - loss: 1.7163 - accuracy: 0.5715 - val_loss: 1.2740 - val_accuracy: 0.7790\n",
      "Epoch 2/15\n",
      "100/100 [==============================] - 3s 29ms/step - loss: 1.1170 - accuracy: 0.7803 - val_loss: 0.9393 - val_accuracy: 0.8265\n",
      "Epoch 3/15\n",
      "100/100 [==============================] - 3s 28ms/step - loss: 0.8886 - accuracy: 0.8143 - val_loss: 0.7806 - val_accuracy: 0.8469\n",
      "Epoch 4/15\n",
      "100/100 [==============================] - 3s 26ms/step - loss: 0.7647 - accuracy: 0.8319 - val_loss: 0.6875 - val_accuracy: 0.8605\n",
      "Epoch 5/15\n",
      "100/100 [==============================] - 3s 27ms/step - loss: 0.6854 - accuracy: 0.8460 - val_loss: 0.6252 - val_accuracy: 0.8702\n",
      "Epoch 6/15\n",
      "100/100 [==============================] - 3s 27ms/step - loss: 0.6311 - accuracy: 0.8573 - val_loss: 0.5798 - val_accuracy: 0.8751\n",
      "Epoch 7/15\n",
      "100/100 [==============================] - 4s 40ms/step - loss: 0.5907 - accuracy: 0.8626 - val_loss: 0.5448 - val_accuracy: 0.8806\n",
      "Epoch 8/15\n",
      "100/100 [==============================] - 3s 27ms/step - loss: 0.5598 - accuracy: 0.8697 - val_loss: 0.5169 - val_accuracy: 0.8852\n",
      "Epoch 9/15\n",
      "100/100 [==============================] - 3s 27ms/step - loss: 0.5330 - accuracy: 0.8729 - val_loss: 0.4940 - val_accuracy: 0.8893\n",
      "Epoch 10/15\n",
      "100/100 [==============================] - 3s 28ms/step - loss: 0.5127 - accuracy: 0.8759 - val_loss: 0.4748 - val_accuracy: 0.8926\n",
      "Epoch 11/15\n",
      "100/100 [==============================] - 3s 26ms/step - loss: 0.4922 - accuracy: 0.8812 - val_loss: 0.4583 - val_accuracy: 0.8948\n",
      "Epoch 12/15\n",
      "100/100 [==============================] - 3s 26ms/step - loss: 0.4782 - accuracy: 0.8808 - val_loss: 0.4443 - val_accuracy: 0.8980\n",
      "Epoch 13/15\n",
      "100/100 [==============================] - 3s 26ms/step - loss: 0.4639 - accuracy: 0.8836 - val_loss: 0.4318 - val_accuracy: 0.9001\n",
      "Epoch 14/15\n",
      "100/100 [==============================] - 3s 26ms/step - loss: 0.4493 - accuracy: 0.8897 - val_loss: 0.4207 - val_accuracy: 0.9017\n",
      "Epoch 15/15\n",
      "100/100 [==============================] - 3s 26ms/step - loss: 0.4419 - accuracy: 0.8904 - val_loss: 0.4107 - val_accuracy: 0.9028\n"
     ]
    }
   ],
   "source": [
    "train_images = X_train.reshape((trainsize, 28, 28, 1))\n",
    "train_images = (train_images.astype('float32') - 127.5) / 127.5\n",
    "\n",
    "test_images = X_test.reshape((testsize, 28, 28, 1))\n",
    "test_images = (test_images.astype('float32') - 127.5) / 127.5\n",
    "\n",
    "train_labels = to_categorical(y_train)\n",
    "test_labels = to_categorical(y_test)\n",
    "\n",
    "new_model.compile(optimizer='sgd',\n",
    "                  loss='categorical_crossentropy',\n",
    "                  metrics=['accuracy'])\n",
    "\n",
    "history = new_model.fit(train_images, train_labels, batch_size=100, epochs=15,\n",
    "                        validation_data=(test_images, test_labels))\n"
   ]
  },
  {
   "cell_type": "code",
   "execution_count": 15,
   "metadata": {},
   "outputs": [
    {
     "data": {
      "image/png": "[encoded data removed]",
      "text/plain": [
       "<Figure size 640x480 with 1 Axes>"
      ]
     },
     "metadata": {},
     "output_type": "display_data"
    }
   ],
   "source": [
    "plt.figure()\n",
    "plt.plot(history.history['accuracy'], label='accuracy')\n",
    "plt.plot(history.history['val_accuracy'], label = 'val_accuracy')\n",
    "plt.xlabel('Epoch')\n",
    "plt.ylabel('Accuracy')\n",
    "plt.ylim([0.3, 1])\n",
    "plt.legend(loc='lower right')\n",
    "plt.show()"
   ]
  },
  {
   "cell_type": "markdown",
   "metadata": {},
   "source": [
    "We can see that, using the tuned discriminator model, both training accuracy and testing are approximately 0.90 after 15 epochs."
   ]
  },
  {
   "cell_type": "code",
   "execution_count": 16,
   "metadata": {},
   "outputs": [
    {
     "name": "stderr",
     "output_type": "stream",
     "text": [
      "2024-11-25 13:18:44.181726: I tensorflow/core/grappler/optimizers/custom_graph_optimizer_registry.cc:114] Plugin optimizer for device_type GPU is enabled.\n"
     ]
    },
    {
     "name": "stdout",
     "output_type": "stream",
     "text": [
      "1/1 [==============================] - 2s 2s/step\n",
      "[[2.3099766e-04 3.4427833e-02 8.2747537e-01 7.7869542e-02 4.0406798e-04\n",
      "  5.2673160e-04 6.9522765e-03 1.6893159e-03 4.7883451e-02 2.5403798e-03]]\n",
      "prediction: 2\n"
     ]
    },
    {
     "data": {
      "image/png": "[encoded data removed]",
      "text/plain": [
       "<Figure size 640x480 with 1 Axes>"
      ]
     },
     "metadata": {},
     "output_type": "display_data"
    }
   ],
   "source": [
    "# demonstration: predict the ith test digit\n",
    "i = 15\n",
    "prediction = new_model.predict(test_images[i].reshape(1,28,28,1))\n",
    "\n",
    "# get probability distribution and classification of the test digit\n",
    "print(prediction)\n",
    "print('prediction:', np.argmax(prediction))\n",
    "\n",
    "# draw the barplot\n",
    "plt.figure()\n",
    "plt.bar(np.arange(0,10).astype('str'), prediction[0,:])\n",
    "plt.show()"
   ]
  },
  {
   "cell_type": "code",
   "execution_count": 17,
   "metadata": {},
   "outputs": [
    {
     "name": "stdout",
     "output_type": "stream",
     "text": [
      "actual label: 2\n"
     ]
    },
    {
     "data": {
      "image/png": "[encoded data removed]",
      "text/plain": [
       "<Figure size 640x480 with 1 Axes>"
      ]
     },
     "metadata": {},
     "output_type": "display_data"
    }
   ],
   "source": [
    "# show the actual ith digit\n",
    "print('actual label:', np.argmax(test_labels[i]))\n",
    "plt.figure()\n",
    "plt.imshow(test_images[i,:,:,0], cmap='gray')\n",
    "plt.show()"
   ]
  },
  {
   "cell_type": "code",
   "execution_count": 18,
   "metadata": {},
   "outputs": [
    {
     "name": "stdout",
     "output_type": "stream",
     "text": [
      "313/313 [==============================] - 7s 14ms/step\n"
     ]
    },
    {
     "name": "stderr",
     "output_type": "stream",
     "text": [
      "2024-11-25 13:18:53.479210: I tensorflow/core/common_runtime/pluggable_device/pluggable_device_factory.cc:306] Could not identify NUMA node of platform GPU ID 0, defaulting to 0. Your kernel may not have been built with NUMA support.\n",
      "2024-11-25 13:18:53.479262: I tensorflow/core/common_runtime/pluggable_device/pluggable_device_factory.cc:272] Created TensorFlow device (/job:localhost/replica:0/task:0/device:GPU:0 with 14539 MB memory) -> physical PluggableDevice (device: 0, name: DML, pci bus id: <undefined>)\n",
      "2024-11-25 13:18:53.563971: I tensorflow/core/common_runtime/pluggable_device/pluggable_device_factory.cc:306] Could not identify NUMA node of platform GPU ID 0, defaulting to 0. Your kernel may not have been built with NUMA support.\n",
      "2024-11-25 13:18:53.564032: I tensorflow/core/common_runtime/pluggable_device/pluggable_device_factory.cc:272] Created TensorFlow device (/job:localhost/replica:0/task:0/device:GPU:0 with 14539 MB memory) -> physical PluggableDevice (device: 0, name: DML, pci bus id: <undefined>)\n",
      "2024-11-25 13:18:53.566913: I tensorflow/core/common_runtime/pluggable_device/pluggable_device_factory.cc:306] Could not identify NUMA node of platform GPU ID 0, defaulting to 0. Your kernel may not have been built with NUMA support.\n",
      "2024-11-25 13:18:53.566962: I tensorflow/core/common_runtime/pluggable_device/pluggable_device_factory.cc:272] Created TensorFlow device (/job:localhost/replica:0/task:0/device:GPU:0 with 14539 MB memory) -> physical PluggableDevice (device: 0, name: DML, pci bus id: <undefined>)\n"
     ]
    }
   ],
   "source": [
    "pred_labels = new_model.predict(test_images).argmax(axis=1)\n",
    "true_labels = test_labels.argmax(axis=1)"
   ]
  },
  {
   "cell_type": "code",
   "execution_count": 19,
   "metadata": {},
   "outputs": [
    {
     "name": "stderr",
     "output_type": "stream",
     "text": [
      "2024-11-25 13:18:53.701341: I tensorflow/core/common_runtime/pluggable_device/pluggable_device_factory.cc:306] Could not identify NUMA node of platform GPU ID 0, defaulting to 0. Your kernel may not have been built with NUMA support.\n",
      "2024-11-25 13:18:53.701454: I tensorflow/core/common_runtime/pluggable_device/pluggable_device_factory.cc:272] Created TensorFlow device (/job:localhost/replica:0/task:0/device:GPU:0 with 14539 MB memory) -> physical PluggableDevice (device: 0, name: DML, pci bus id: <undefined>)\n"
     ]
    },
    {
     "data": {
      "text/plain": [
       "array([[ 952,    0,    2,    0,    0,    9,   12,    1,    4,    0],\n",
       "       [   0, 1110,    6,    2,    1,    2,    4,    0,   10,    0],\n",
       "       [  20,   19,  870,   25,   13,    1,   17,   27,   35,    5],\n",
       "       [   5,    0,   17,  894,    1,   40,    8,   12,   22,   11],\n",
       "       [   2,    7,    3,    3,  893,    5,   14,    5,    5,   45],\n",
       "       [   7,    7,    2,   35,    4,  785,   19,    3,   19,   11],\n",
       "       [  19,    3,    9,    3,   11,   13,  898,    0,    2,    0],\n",
       "       [   5,   20,   24,    3,   11,    5,    1,  917,    4,   38],\n",
       "       [   8,    8,   16,   25,   12,   26,   10,   14,  832,   23],\n",
       "       [  15,    7,    6,   10,   41,   15,    1,   28,    9,  877]],\n",
       "      dtype=int32)"
      ]
     },
     "execution_count": 19,
     "metadata": {},
     "output_type": "execute_result"
    }
   ],
   "source": [
    "confusion_mat = tf.math.confusion_matrix(labels=true_labels, predictions=pred_labels).numpy()\n",
    "confusion_mat"
   ]
  },
  {
   "cell_type": "code",
   "execution_count": 20,
   "metadata": {},
   "outputs": [
    {
     "data": {
      "image/png": "[encoded data removed]",
      "text/plain": [
       "<Figure size 640x480 with 2 Axes>"
      ]
     },
     "metadata": {},
     "output_type": "display_data"
    }
   ],
   "source": [
    "import pandas as pd\n",
    "import seaborn as sns\n",
    "\n",
    "confusion_mat_norm = np.around(confusion_mat.astype('float') / np.atleast_2d(confusion_mat.sum(axis=1)).T, decimals=2)\n",
    "\n",
    "classes = np.arange(0,10).astype('str')\n",
    "confusion_mat_df = pd.DataFrame(confusion_mat_norm,\n",
    "                                index = classes, \n",
    "                                columns = classes)\n",
    "\n",
    "figure = plt.figure()\n",
    "sns.heatmap(confusion_mat_df, annot=True, cmap=plt.cm.Blues)\n",
    "plt.tight_layout()\n",
    "plt.ylabel('True label')\n",
    "plt.xlabel('Predicted label')\n",
    "plt.show()"
   ]
  },
  {
   "cell_type": "code",
   "execution_count": null,
   "metadata": {},
   "outputs": [],
   "source": []
  }
 ],
 "metadata": {
  "kernelspec": {
   "display_name": "3.10.15",
   "language": "python",
   "name": "python3"
  },
  "language_info": {
   "codemirror_mode": {
    "name": "ipython",
    "version": 3
   },
   "file_extension": ".py",
   "mimetype": "text/x-python",
   "name": "python",
   "nbconvert_exporter": "python",
   "pygments_lexer": "ipython3",
   "version": "3.10.15"
  }
 },
 "nbformat": 4,
 "nbformat_minor": 4
}
