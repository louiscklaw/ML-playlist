{
 "cells": [
  {
   "cell_type": "code",
   "execution_count": 1,
   "metadata": {},
   "outputs": [
    {
     "name": "stderr",
     "output_type": "stream",
     "text": [
      "2024-11-25 19:33:41.430059: I tensorflow/core/platform/cpu_feature_guard.cc:193] This TensorFlow binary is optimized with oneAPI Deep Neural Network Library (oneDNN) to use the following CPU instructions in performance-critical operations:  AVX2 AVX512F AVX512_VNNI FMA\n",
      "To enable them in other operations, rebuild TensorFlow with the appropriate compiler flags.\n",
      "2024-11-25 19:33:41.752331: I tensorflow/core/util/util.cc:169] oneDNN custom operations are on. You may see slightly different numerical results due to floating-point round-off errors from different computation orders. To turn them off, set the environment variable `TF_ENABLE_ONEDNN_OPTS=0`.\n",
      "2024-11-25 19:33:47.002766: I tensorflow/c/logging.cc:34] Successfully opened dynamic library libdirectml.d6f03b303ac3c4f2eeb8ca631688c9757b361310.so\n",
      "2024-11-25 19:33:47.002933: I tensorflow/c/logging.cc:34] Successfully opened dynamic library libdxcore.so\n",
      "2024-11-25 19:33:47.007447: I tensorflow/c/logging.cc:34] Successfully opened dynamic library libd3d12.so\n",
      "2024-11-25 19:33:47.725926: I tensorflow/c/logging.cc:34] DirectML device enumeration: found 1 compatible adapters.\n"
     ]
    }
   ],
   "source": [
    "%matplotlib inline\n",
    "from matplotlib import pyplot as plt\n",
    "import numpy as np\n",
    "import tensorflow as tf\n",
    "from tensorflow import keras\n",
    "from tensorflow.keras import Sequential, layers\n",
    "from tensorflow.keras.layers import Conv2D, MaxPooling2D, Flatten, Dense\n",
    "from tensorflow.keras.utils import to_categorical"
   ]
  },
  {
   "cell_type": "code",
   "execution_count": 2,
   "metadata": {},
   "outputs": [],
   "source": [
    "import glob\n",
    "import os\n",
    "import PIL\n",
    "import time\n",
    "\n",
    "from IPython import display"
   ]
  },
  {
   "cell_type": "code",
   "execution_count": 3,
   "metadata": {},
   "outputs": [],
   "source": [
    "def make_generator_model():\n",
    "    model = tf.keras.Sequential()\n",
    "    model.add(layers.Dense(7*7*256, use_bias=False, input_shape=(100,)))\n",
    "    model.add(layers.BatchNormalization())\n",
    "    model.add(layers.LeakyReLU())\n",
    "\n",
    "    model.add(layers.Reshape((7, 7, 256)))\n",
    "    assert model.output_shape == (None, 7, 7, 256) # Note: None is the batch size\n",
    "\n",
    "    model.add(layers.Conv2DTranspose(128, (5, 5), strides=(1, 1), padding='same', use_bias=False))\n",
    "    assert model.output_shape == (None, 7, 7, 128)\n",
    "    model.add(layers.BatchNormalization())\n",
    "    model.add(layers.LeakyReLU())\n",
    "\n",
    "    model.add(layers.Conv2DTranspose(64, (5, 5), strides=(2, 2), padding='same', use_bias=False))\n",
    "    assert model.output_shape == (None, 14, 14, 64)\n",
    "    model.add(layers.BatchNormalization())\n",
    "    model.add(layers.LeakyReLU())\n",
    "\n",
    "    model.add(layers.Conv2DTranspose(1, (5, 5), strides=(2, 2), padding='same', use_bias=False, activation='tanh'))\n",
    "    assert model.output_shape == (None, 28, 28, 1)\n",
    "\n",
    "    return model"
   ]
  },
  {
   "cell_type": "code",
   "execution_count": 4,
   "metadata": {},
   "outputs": [],
   "source": [
    "def make_discriminator_model():\n",
    "    model = tf.keras.Sequential()\n",
    "    model.add(layers.Conv2D(64, (5, 5), strides=(2, 2), padding='same',\n",
    "                                     input_shape=[28, 28, 1]))\n",
    "    model.add(layers.LeakyReLU())\n",
    "    model.add(layers.Dropout(0.3))\n",
    "\n",
    "    model.add(layers.Conv2D(128, (5, 5), strides=(2, 2), padding='same'))\n",
    "    model.add(layers.LeakyReLU())\n",
    "    model.add(layers.Dropout(0.3))\n",
    "\n",
    "    model.add(layers.Flatten())\n",
    "    model.add(layers.Dense(1))\n",
    "\n",
    "    return model"
   ]
  },
  {
   "cell_type": "code",
   "execution_count": 5,
   "metadata": {},
   "outputs": [
    {
     "name": "stderr",
     "output_type": "stream",
     "text": [
      "2024-11-25 19:33:49.533922: I tensorflow/core/platform/cpu_feature_guard.cc:193] This TensorFlow binary is optimized with oneAPI Deep Neural Network Library (oneDNN) to use the following CPU instructions in performance-critical operations:  AVX2 AVX512F AVX512_VNNI FMA\n",
      "To enable them in other operations, rebuild TensorFlow with the appropriate compiler flags.\n",
      "2024-11-25 19:33:49.534972: I tensorflow/c/logging.cc:34] DirectML: creating device on adapter 0 (Intel(R) Iris(R) Xe Graphics)\n",
      "2024-11-25 19:33:49.592225: I tensorflow/core/common_runtime/pluggable_device/pluggable_device_factory.cc:306] Could not identify NUMA node of platform GPU ID 0, defaulting to 0. Your kernel may not have been built with NUMA support.\n",
      "2024-11-25 19:33:49.592308: W tensorflow/core/common_runtime/pluggable_device/pluggable_device_bfc_allocator.cc:28] Overriding allow_growth setting because force_memory_growth was requested by the device.\n",
      "2024-11-25 19:33:49.592347: I tensorflow/core/common_runtime/pluggable_device/pluggable_device_factory.cc:272] Created TensorFlow device (/job:localhost/replica:0/task:0/device:GPU:0 with 14539 MB memory) -> physical PluggableDevice (device: 0, name: DML, pci bus id: <undefined>)\n"
     ]
    }
   ],
   "source": [
    "generator = make_generator_model()\n",
    "discriminator = make_discriminator_model()\n",
    "generator_optimizer = tf.keras.optimizers.Adam(1e-4)\n",
    "discriminator_optimizer = tf.keras.optimizers.Adam(1e-4)"
   ]
  },
  {
   "cell_type": "code",
   "execution_count": 6,
   "metadata": {},
   "outputs": [],
   "source": [
    "checkpoint_dir = './training_checkpoints'\n",
    "checkpoint_prefix = os.path.join(checkpoint_dir, \"ckpt\")\n",
    "checkpoint = tf.train.Checkpoint(generator_optimizer=generator_optimizer,\n",
    "                                 discriminator_optimizer=discriminator_optimizer,\n",
    "                                 generator=generator,\n",
    "                                 discriminator=discriminator)"
   ]
  },
  {
   "cell_type": "code",
   "execution_count": 7,
   "metadata": {},
   "outputs": [
    {
     "data": {
      "text/plain": [
       "<tensorflow.python.checkpoint.checkpoint.CheckpointLoadStatus at 0x7fec2c59fdc0>"
      ]
     },
     "execution_count": 7,
     "metadata": {},
     "output_type": "execute_result"
    }
   ],
   "source": [
    "checkpoint.restore(tf.train.latest_checkpoint(checkpoint_dir))"
   ]
  },
  {
   "cell_type": "markdown",
   "metadata": {},
   "source": [
    "Now, we transfer the weights of discriminator except the last layer to a new model, add a dense layer with 128 units, and add another dense layer with 10 units and softmax activation."
   ]
  },
  {
   "cell_type": "code",
   "execution_count": 8,
   "metadata": {},
   "outputs": [
    {
     "name": "stdout",
     "output_type": "stream",
     "text": [
      "Model: \"sequential_2\"\n",
      "_________________________________________________________________\n",
      " Layer (type)                Output Shape              Param #   \n",
      "=================================================================\n",
      " conv2d (Conv2D)             (None, 14, 14, 64)        1664      \n",
      "                                                                 \n",
      " leaky_re_lu_3 (LeakyReLU)   (None, 14, 14, 64)        0         \n",
      "                                                                 \n",
      " dropout (Dropout)           (None, 14, 14, 64)        0         \n",
      "                                                                 \n",
      " conv2d_1 (Conv2D)           (None, 7, 7, 128)         204928    \n",
      "                                                                 \n",
      " leaky_re_lu_4 (LeakyReLU)   (None, 7, 7, 128)         0         \n",
      "                                                                 \n",
      " dropout_1 (Dropout)         (None, 7, 7, 128)         0         \n",
      "                                                                 \n",
      " flatten (Flatten)           (None, 6272)              0         \n",
      "                                                                 \n",
      " dense_2 (Dense)             (None, 128)               802944    \n",
      "                                                                 \n",
      " dense_3 (Dense)             (None, 10)                1290      \n",
      "                                                                 \n",
      "=================================================================\n",
      "Total params: 1,010,826\n",
      "Trainable params: 804,234\n",
      "Non-trainable params: 206,592\n",
      "_________________________________________________________________\n"
     ]
    }
   ],
   "source": [
    "disc = checkpoint.discriminator\n",
    "\n",
    "new_model = Sequential()\n",
    "for i in range(len(disc.layers) - 1):\n",
    "    new_model.add(disc.layers[i])\n",
    "\n",
    "# freeze the layers \n",
    "for layer in new_model.layers:\n",
    "    layer.trainable = False    \n",
    "\n",
    "new_model.add(Dense(128))\n",
    "new_model.add(Dense(10, activation='softmax'))\n",
    "new_model.summary()"
   ]
  },
  {
   "cell_type": "code",
   "execution_count": 9,
   "metadata": {},
   "outputs": [
    {
     "data": {
      "text/plain": [
       "[<tf.Variable 'dense_2/kernel:0' shape=(6272, 128) dtype=float32, numpy=\n",
       " array([[-0.00542349, -0.00037333, -0.01980617, ...,  0.02656044,\n",
       "          0.02153097,  0.00248766],\n",
       "        [ 0.01052108, -0.01718351, -0.026328  , ...,  0.00855674,\n",
       "          0.00504749,  0.00331646],\n",
       "        [-0.0097466 ,  0.02695682, -0.00760369, ...,  0.02523785,\n",
       "         -0.00125198,  0.00987642],\n",
       "        ...,\n",
       "        [-0.00714748, -0.00259986, -0.02979711, ...,  0.00899602,\n",
       "         -0.01747975,  0.01115411],\n",
       "        [ 0.02883515, -0.00294369,  0.02154434, ..., -0.00033869,\n",
       "         -0.02807568,  0.01282337],\n",
       "        [-0.01406906,  0.02781705, -0.02635704, ..., -0.02555622,\n",
       "         -0.02943399,  0.00488113]], dtype=float32)>,\n",
       " <tf.Variable 'dense_2/bias:0' shape=(128,) dtype=float32, numpy=\n",
       " array([0., 0., 0., 0., 0., 0., 0., 0., 0., 0., 0., 0., 0., 0., 0., 0., 0.,\n",
       "        0., 0., 0., 0., 0., 0., 0., 0., 0., 0., 0., 0., 0., 0., 0., 0., 0.,\n",
       "        0., 0., 0., 0., 0., 0., 0., 0., 0., 0., 0., 0., 0., 0., 0., 0., 0.,\n",
       "        0., 0., 0., 0., 0., 0., 0., 0., 0., 0., 0., 0., 0., 0., 0., 0., 0.,\n",
       "        0., 0., 0., 0., 0., 0., 0., 0., 0., 0., 0., 0., 0., 0., 0., 0., 0.,\n",
       "        0., 0., 0., 0., 0., 0., 0., 0., 0., 0., 0., 0., 0., 0., 0., 0., 0.,\n",
       "        0., 0., 0., 0., 0., 0., 0., 0., 0., 0., 0., 0., 0., 0., 0., 0., 0.,\n",
       "        0., 0., 0., 0., 0., 0., 0., 0., 0.], dtype=float32)>]"
      ]
     },
     "execution_count": 9,
     "metadata": {},
     "output_type": "execute_result"
    }
   ],
   "source": [
    "# view the initialized weights and bias of the second last dense layer; weights are uniformly randomly generated \n",
    "# and biases are all zeroes by default\n",
    "new_model.layers[-2].weights"
   ]
  },
  {
   "cell_type": "code",
   "execution_count": 10,
   "metadata": {},
   "outputs": [
    {
     "name": "stdout",
     "output_type": "stream",
     "text": [
      "Downloading data from https://storage.googleapis.com/tensorflow/tf-keras-datasets/mnist.npz\n",
      "11490434/11490434 [==============================] - 6s 1us/step\n",
      "(60000, 28, 28) (60000,) (10000, 28, 28) (10000,) \n",
      "\n",
      "(10000, 28, 28) (10000,) (10000, 28, 28) (10000,)\n"
     ]
    }
   ],
   "source": [
    "(train_img, train_lb), (test_img, test_lb) = tf.keras.datasets.mnist.load_data()\n",
    "\n",
    "print(train_img.shape, train_lb.shape, test_img.shape, test_lb.shape, '\\n')\n",
    "\n",
    "# set random seed\n",
    "np.random.seed(42)\n",
    "trainsize = 10000  # number of training images we use, selected randomly\n",
    "randtrain = np.random.choice(train_img.shape[0], trainsize, replace=False)\n",
    "X_train, y_train = train_img[randtrain], train_lb[randtrain]\n",
    "\n",
    "np.random.seed(10)\n",
    "testsize = 10000  # number of testing images we use, selected randomly\n",
    "randtest = np.random.choice(test_img.shape[0], testsize, replace=False)\n",
    "X_test, y_test = test_img[randtest], test_lb[randtest]\n",
    "\n",
    "print(X_train.shape, y_train.shape, X_test.shape, y_test.shape)"
   ]
  },
  {
   "cell_type": "code",
   "execution_count": null,
   "metadata": {},
   "outputs": [
    {
     "name": "stdout",
     "output_type": "stream",
     "text": [
      "Epoch 1/32\n",
      "  1/100 [..............................] - ETA: 34s - loss: 0.2051 - accuracy: 0.9600"
     ]
    },
    {
     "name": "stderr",
     "output_type": "stream",
     "text": [
      "2024-11-25 19:37:28.120915: I tensorflow/core/grappler/optimizers/custom_graph_optimizer_registry.cc:114] Plugin optimizer for device_type GPU is enabled.\n"
     ]
    },
    {
     "name": "stdout",
     "output_type": "stream",
     "text": [
      "100/100 [==============================] - ETA: 0s - loss: 0.1468 - accuracy: 0.9565"
     ]
    },
    {
     "name": "stderr",
     "output_type": "stream",
     "text": [
      "2024-11-25 19:37:34.302584: I tensorflow/core/grappler/optimizers/custom_graph_optimizer_registry.cc:114] Plugin optimizer for device_type GPU is enabled.\n"
     ]
    },
    {
     "name": "stdout",
     "output_type": "stream",
     "text": [
      "100/100 [==============================] - 7s 72ms/step - loss: 0.1468 - accuracy: 0.9565 - val_loss: 0.1509 - val_accuracy: 0.9561\n",
      "Epoch 2/32\n",
      "100/100 [==============================] - 6s 62ms/step - loss: 0.1414 - accuracy: 0.9581 - val_loss: 0.1478 - val_accuracy: 0.9574\n",
      "Epoch 3/32\n",
      "100/100 [==============================] - 6s 61ms/step - loss: 0.1344 - accuracy: 0.9618 - val_loss: 0.1436 - val_accuracy: 0.9582\n",
      "Epoch 4/32\n",
      "100/100 [==============================] - 6s 61ms/step - loss: 0.1329 - accuracy: 0.9597 - val_loss: 0.1414 - val_accuracy: 0.9581\n",
      "Epoch 5/32\n",
      "100/100 [==============================] - 7s 65ms/step - loss: 0.1324 - accuracy: 0.9597 - val_loss: 0.1370 - val_accuracy: 0.9595\n",
      "Epoch 6/32\n",
      "100/100 [==============================] - 7s 71ms/step - loss: 0.1282 - accuracy: 0.9605 - val_loss: 0.1349 - val_accuracy: 0.9605\n",
      "Epoch 7/32\n",
      "100/100 [==============================] - 6s 62ms/step - loss: 0.1197 - accuracy: 0.9641 - val_loss: 0.1332 - val_accuracy: 0.9598\n",
      "Epoch 8/32\n",
      "100/100 [==============================] - 6s 61ms/step - loss: 0.1174 - accuracy: 0.9644 - val_loss: 0.1294 - val_accuracy: 0.9612\n",
      "Epoch 9/32\n",
      "100/100 [==============================] - 6s 60ms/step - loss: 0.1154 - accuracy: 0.9663 - val_loss: 0.1278 - val_accuracy: 0.9613\n",
      "Epoch 10/32\n",
      "100/100 [==============================] - 6s 60ms/step - loss: 0.1141 - accuracy: 0.9641 - val_loss: 0.1263 - val_accuracy: 0.9622\n",
      "Epoch 11/32\n",
      "100/100 [==============================] - 7s 69ms/step - loss: 0.1114 - accuracy: 0.9667 - val_loss: 0.1242 - val_accuracy: 0.9626\n",
      "Epoch 12/32\n",
      "100/100 [==============================] - 6s 62ms/step - loss: 0.1033 - accuracy: 0.9684 - val_loss: 0.1204 - val_accuracy: 0.9632\n",
      "Epoch 13/32\n",
      "100/100 [==============================] - 6s 61ms/step - loss: 0.1012 - accuracy: 0.9701 - val_loss: 0.1187 - val_accuracy: 0.9642\n",
      "Epoch 14/32\n",
      "100/100 [==============================] - 6s 63ms/step - loss: 0.0989 - accuracy: 0.9709 - val_loss: 0.1193 - val_accuracy: 0.9636\n",
      "Epoch 15/32\n",
      "100/100 [==============================] - 6s 61ms/step - loss: 0.0970 - accuracy: 0.9719 - val_loss: 0.1169 - val_accuracy: 0.9650\n",
      "Epoch 16/32\n",
      "100/100 [==============================] - 6s 64ms/step - loss: 0.0967 - accuracy: 0.9700 - val_loss: 0.1145 - val_accuracy: 0.9649\n",
      "Epoch 17/32\n",
      "100/100 [==============================] - 7s 70ms/step - loss: 0.0974 - accuracy: 0.9710 - val_loss: 0.1141 - val_accuracy: 0.9655\n",
      "Epoch 18/32\n",
      "100/100 [==============================] - 6s 61ms/step - loss: 0.0936 - accuracy: 0.9708 - val_loss: 0.1126 - val_accuracy: 0.9654\n",
      "Epoch 19/32\n",
      "100/100 [==============================] - 6s 61ms/step - loss: 0.0879 - accuracy: 0.9728 - val_loss: 0.1117 - val_accuracy: 0.9659\n",
      "Epoch 20/32\n",
      "100/100 [==============================] - 6s 60ms/step - loss: 0.0875 - accuracy: 0.9725 - val_loss: 0.1097 - val_accuracy: 0.9663\n",
      "Epoch 21/32\n",
      "100/100 [==============================] - 6s 61ms/step - loss: 0.0858 - accuracy: 0.9731 - val_loss: 0.1089 - val_accuracy: 0.9670\n",
      "Epoch 22/32\n",
      "100/100 [==============================] - 7s 69ms/step - loss: 0.0870 - accuracy: 0.9722 - val_loss: 0.1099 - val_accuracy: 0.9663\n",
      "Epoch 23/32\n",
      "100/100 [==============================] - 6s 60ms/step - loss: 0.0798 - accuracy: 0.9761 - val_loss: 0.1070 - val_accuracy: 0.9677\n",
      "Epoch 24/32\n",
      "100/100 [==============================] - 6s 61ms/step - loss: 0.0838 - accuracy: 0.9746 - val_loss: 0.1051 - val_accuracy: 0.9680\n",
      "Epoch 25/32\n",
      "100/100 [==============================] - 7s 71ms/step - loss: 0.0805 - accuracy: 0.9764 - val_loss: 0.1044 - val_accuracy: 0.9677\n",
      "Epoch 26/32\n",
      "100/100 [==============================] - 6s 62ms/step - loss: 0.0774 - accuracy: 0.9752 - val_loss: 0.1040 - val_accuracy: 0.9684\n",
      "Epoch 27/32\n",
      "100/100 [==============================] - 7s 70ms/step - loss: 0.0758 - accuracy: 0.9767 - val_loss: 0.1021 - val_accuracy: 0.9688\n",
      "Epoch 28/32\n",
      "100/100 [==============================] - 6s 62ms/step - loss: 0.0741 - accuracy: 0.9776 - val_loss: 0.1018 - val_accuracy: 0.9695\n",
      "Epoch 29/32\n",
      "100/100 [==============================] - 7s 68ms/step - loss: 0.0776 - accuracy: 0.9753 - val_loss: 0.1043 - val_accuracy: 0.9675\n",
      "Epoch 30/32\n",
      "100/100 [==============================] - 6s 62ms/step - loss: 0.0728 - accuracy: 0.9783 - val_loss: 0.0997 - val_accuracy: 0.9693\n",
      "Epoch 31/32\n",
      "100/100 [==============================] - 6s 64ms/step - loss: 0.0704 - accuracy: 0.9772 - val_loss: 0.0990 - val_accuracy: 0.9699\n",
      "Epoch 32/32\n",
      "100/100 [==============================] - 7s 71ms/step - loss: 0.0717 - accuracy: 0.9780 - val_loss: 0.1001 - val_accuracy: 0.9690\n"
     ]
    }
   ],
   "source": [
    "train_images = X_train.reshape((trainsize, 28, 28, 1))\n",
    "train_images = (train_images.astype('float32') - 127.5) / 127.5\n",
    "\n",
    "test_images = X_test.reshape((testsize, 28, 28, 1))\n",
    "test_images = (test_images.astype('float32') - 127.5) / 127.5\n",
    "\n",
    "train_labels = to_categorical(y_train)\n",
    "test_labels = to_categorical(y_test)\n",
    "\n",
    "new_model.compile(optimizer='sgd',\n",
    "                  loss='categorical_crossentropy',\n",
    "                  metrics=['accuracy'])\n",
    "\n",
    "history1 = new_model.fit(train_images, train_labels, batch_size=100, epochs=7,\n",
    "                        validation_data=(test_images, test_labels))\n"
   ]
  },
  {
   "cell_type": "code",
   "execution_count": null,
   "metadata": {},
   "outputs": [
    {
     "name": "stdout",
     "output_type": "stream",
     "text": [
      "Epoch 1/32\n"
     ]
    },
    {
     "name": "stderr",
     "output_type": "stream",
     "text": [
      "2024-11-25 19:41:52.765615: I tensorflow/core/grappler/optimizers/custom_graph_optimizer_registry.cc:114] Plugin optimizer for device_type GPU is enabled.\n"
     ]
    },
    {
     "name": "stdout",
     "output_type": "stream",
     "text": [
      "100/100 [==============================] - ETA: 0s - loss: 0.0703 - accuracy: 0.9773"
     ]
    },
    {
     "name": "stderr",
     "output_type": "stream",
     "text": [
      "2024-11-25 19:42:00.584556: I tensorflow/core/grappler/optimizers/custom_graph_optimizer_registry.cc:114] Plugin optimizer for device_type GPU is enabled.\n"
     ]
    },
    {
     "name": "stdout",
     "output_type": "stream",
     "text": [
      "100/100 [==============================] - 11s 86ms/step - loss: 0.0703 - accuracy: 0.9773 - val_loss: 0.0996 - val_accuracy: 0.9695\n",
      "Epoch 2/32\n",
      "100/100 [==============================] - 7s 66ms/step - loss: 0.0689 - accuracy: 0.9787 - val_loss: 0.0986 - val_accuracy: 0.9691\n",
      "Epoch 3/32\n",
      "100/100 [==============================] - 6s 62ms/step - loss: 0.0655 - accuracy: 0.9804 - val_loss: 0.0972 - val_accuracy: 0.9694\n",
      "Epoch 4/32\n",
      "100/100 [==============================] - 6s 59ms/step - loss: 0.0650 - accuracy: 0.9792 - val_loss: 0.0977 - val_accuracy: 0.9708\n",
      "Epoch 5/32\n",
      "100/100 [==============================] - 6s 62ms/step - loss: 0.0657 - accuracy: 0.9784 - val_loss: 0.0967 - val_accuracy: 0.9699\n",
      "Epoch 6/32\n",
      "100/100 [==============================] - 7s 70ms/step - loss: 0.0622 - accuracy: 0.9809 - val_loss: 0.0971 - val_accuracy: 0.9702\n",
      "Epoch 7/32\n",
      "100/100 [==============================] - 6s 59ms/step - loss: 0.0623 - accuracy: 0.9813 - val_loss: 0.0963 - val_accuracy: 0.9704\n",
      "Epoch 8/32\n",
      "100/100 [==============================] - 6s 59ms/step - loss: 0.0611 - accuracy: 0.9811 - val_loss: 0.0947 - val_accuracy: 0.9710\n",
      "Epoch 9/32\n",
      "100/100 [==============================] - 6s 60ms/step - loss: 0.0652 - accuracy: 0.9782 - val_loss: 0.0958 - val_accuracy: 0.9711\n",
      "Epoch 10/32\n",
      "100/100 [==============================] - 7s 65ms/step - loss: 0.0559 - accuracy: 0.9834 - val_loss: 0.0957 - val_accuracy: 0.9701\n",
      "Epoch 11/32\n",
      "100/100 [==============================] - 7s 73ms/step - loss: 0.0602 - accuracy: 0.9817 - val_loss: 0.0938 - val_accuracy: 0.9711\n",
      "Epoch 12/32\n",
      "100/100 [==============================] - 6s 61ms/step - loss: 0.0596 - accuracy: 0.9800 - val_loss: 0.0930 - val_accuracy: 0.9722\n",
      "Epoch 13/32\n",
      "100/100 [==============================] - 6s 60ms/step - loss: 0.0559 - accuracy: 0.9815 - val_loss: 0.0935 - val_accuracy: 0.9704\n",
      "Epoch 14/32\n",
      "100/100 [==============================] - 6s 59ms/step - loss: 0.0564 - accuracy: 0.9827 - val_loss: 0.0935 - val_accuracy: 0.9713\n",
      "Epoch 15/32\n",
      "100/100 [==============================] - 6s 59ms/step - loss: 0.0570 - accuracy: 0.9813 - val_loss: 0.0919 - val_accuracy: 0.9720\n",
      "Epoch 16/32\n",
      "100/100 [==============================] - 6s 59ms/step - loss: 0.0570 - accuracy: 0.9813 - val_loss: 0.0914 - val_accuracy: 0.9718\n",
      "Epoch 17/32\n",
      "100/100 [==============================] - 7s 74ms/step - loss: 0.0550 - accuracy: 0.9813 - val_loss: 0.0905 - val_accuracy: 0.9725\n",
      "Epoch 18/32\n",
      "100/100 [==============================] - 6s 61ms/step - loss: 0.0503 - accuracy: 0.9838 - val_loss: 0.0914 - val_accuracy: 0.9718\n",
      "Epoch 19/32\n",
      "100/100 [==============================] - 6s 62ms/step - loss: 0.0522 - accuracy: 0.9839 - val_loss: 0.0913 - val_accuracy: 0.9719\n",
      "Epoch 20/32\n",
      "100/100 [==============================] - 6s 61ms/step - loss: 0.0534 - accuracy: 0.9821 - val_loss: 0.0916 - val_accuracy: 0.9727\n",
      "Epoch 21/32\n",
      "100/100 [==============================] - 6s 61ms/step - loss: 0.0530 - accuracy: 0.9834 - val_loss: 0.0907 - val_accuracy: 0.9728\n",
      "Epoch 22/32\n",
      "100/100 [==============================] - 7s 69ms/step - loss: 0.0521 - accuracy: 0.9830 - val_loss: 0.0904 - val_accuracy: 0.9727\n",
      "Epoch 23/32\n",
      "100/100 [==============================] - 6s 58ms/step - loss: 0.0515 - accuracy: 0.9843 - val_loss: 0.0893 - val_accuracy: 0.9731\n",
      "Epoch 24/32\n",
      "100/100 [==============================] - 6s 62ms/step - loss: 0.0494 - accuracy: 0.9843 - val_loss: 0.0895 - val_accuracy: 0.9732\n",
      "Epoch 25/32\n",
      "100/100 [==============================] - 6s 60ms/step - loss: 0.0488 - accuracy: 0.9841 - val_loss: 0.0902 - val_accuracy: 0.9735\n",
      "Epoch 26/32\n",
      "100/100 [==============================] - 6s 60ms/step - loss: 0.0479 - accuracy: 0.9860 - val_loss: 0.0913 - val_accuracy: 0.9729\n",
      "Epoch 27/32\n",
      "100/100 [==============================] - 7s 72ms/step - loss: 0.0462 - accuracy: 0.9853 - val_loss: 0.0899 - val_accuracy: 0.9724\n",
      "Epoch 28/32\n",
      "100/100 [==============================] - 6s 60ms/step - loss: 0.0478 - accuracy: 0.9846 - val_loss: 0.0895 - val_accuracy: 0.9730\n",
      "Epoch 29/32\n",
      "100/100 [==============================] - 6s 60ms/step - loss: 0.0473 - accuracy: 0.9847 - val_loss: 0.0908 - val_accuracy: 0.9736\n",
      "Epoch 30/32\n",
      "100/100 [==============================] - 6s 63ms/step - loss: 0.0465 - accuracy: 0.9858 - val_loss: 0.0908 - val_accuracy: 0.9721\n",
      "Epoch 31/32\n",
      "100/100 [==============================] - 7s 67ms/step - loss: 0.0461 - accuracy: 0.9836 - val_loss: 0.0888 - val_accuracy: 0.9734\n",
      "Epoch 32/32\n",
      "100/100 [==============================] - 7s 74ms/step - loss: 0.0428 - accuracy: 0.9864 - val_loss: 0.0884 - val_accuracy: 0.9740\n"
     ]
    }
   ],
   "source": [
    "# unfreeze all layers \n",
    "for layer in new_model.layers:\n",
    "    layer.trainable = True\n",
    "\n",
    "# optimizer=new_model.optimizer\n",
    "# optimizer.learning_rate=0.005\n",
    "    \n",
    "new_model.compile(optimizer='sgd',\n",
    "                  loss='categorical_crossentropy',\n",
    "                  metrics=['accuracy'])\n",
    "\n",
    "history2 = new_model.fit(train_images, train_labels, batch_size=100, epochs=8,\n",
    "                        validation_data=(test_images, test_labels)) \n"
   ]
  },
  {
   "cell_type": "code",
   "execution_count": 25,
   "metadata": {},
   "outputs": [
    {
     "data": {
      "image/png": "[encoded data removed]",
      "text/plain": [
       "<Figure size 640x480 with 1 Axes>"
      ]
     },
     "metadata": {},
     "output_type": "display_data"
    }
   ],
   "source": [
    "accuracy = history1.history['accuracy'] + history2.history['accuracy']\n",
    "val_accuracy = history1.history['val_accuracy'] + history2.history['val_accuracy']\n",
    "\n",
    "plt.figure()\n",
    "plt.plot(accuracy, label='accuracy')\n",
    "plt.plot(val_accuracy, label = 'val_accuracy')\n",
    "plt.xlabel('Epoch')\n",
    "plt.ylabel('Accuracy')\n",
    "plt.ylim([0.3, 1])\n",
    "plt.legend(loc='lower right')\n",
    "plt.show()"
   ]
  },
  {
   "cell_type": "markdown",
   "metadata": {},
   "source": [
    "We can see that, using the tuned discriminator model, both training accuracy and testing are approximately 0.94 after 15 epochs."
   ]
  },
  {
   "cell_type": "code",
   "execution_count": 26,
   "metadata": {},
   "outputs": [
    {
     "name": "stdout",
     "output_type": "stream",
     "text": [
      "actual label: 4\n"
     ]
    },
    {
     "data": {
      "image/png": "[encoded data removed]",
      "text/plain": [
       "<Figure size 640x480 with 1 Axes>"
      ]
     },
     "metadata": {},
     "output_type": "display_data"
    },
    {
     "name": "stdout",
     "output_type": "stream",
     "text": [
      "1/1 [==============================] - 0s 49ms/step\n",
      "[[7.8558891e-08 2.3974803e-06 1.0122899e-07 1.3120263e-06 9.9984670e-01\n",
      "  3.0063864e-06 4.5264069e-06 1.8829565e-05 5.0035422e-05 7.3070296e-05]]\n",
      "prediction: 4\n"
     ]
    },
    {
     "name": "stderr",
     "output_type": "stream",
     "text": [
      "2024-11-25 19:45:17.511686: I tensorflow/core/grappler/optimizers/custom_graph_optimizer_registry.cc:114] Plugin optimizer for device_type GPU is enabled.\n"
     ]
    },
    {
     "data": {
      "image/png": "[encoded data removed]",
      "text/plain": [
       "<Figure size 640x480 with 1 Axes>"
      ]
     },
     "metadata": {},
     "output_type": "display_data"
    }
   ],
   "source": [
    "# demonstration: predict the ith test digit\n",
    "i = np.random.randint(0, trainsize)\n",
    "\n",
    "# show the actual ith digit\n",
    "print('actual label:', np.argmax(test_labels[i]))\n",
    "plt.figure()\n",
    "plt.imshow(test_images[i,:,:,0], cmap='gray')\n",
    "plt.show()\n",
    "\n",
    "# predict\n",
    "prediction = new_model.predict(test_images[i].reshape(1,28,28,1))\n",
    "\n",
    "# get probability distribution and classification of the test digit\n",
    "print(prediction)\n",
    "print('prediction:', np.argmax(prediction))\n",
    "\n",
    "# draw the barplot\n",
    "plt.figure()\n",
    "plt.bar(np.arange(0,10).astype('str'), prediction[0,:])\n",
    "plt.show()"
   ]
  },
  {
   "cell_type": "markdown",
   "metadata": {},
   "source": [
    "**Get Confusion Matrix**"
   ]
  },
  {
   "cell_type": "code",
   "execution_count": 27,
   "metadata": {},
   "outputs": [
    {
     "name": "stdout",
     "output_type": "stream",
     "text": [
      "313/313 [==============================] - 2s 6ms/step\n"
     ]
    }
   ],
   "source": [
    "pred_labels = new_model.predict(test_images).argmax(axis=1)\n",
    "true_labels = test_labels.argmax(axis=1)"
   ]
  },
  {
   "cell_type": "code",
   "execution_count": 28,
   "metadata": {},
   "outputs": [
    {
     "data": {
      "text/plain": [
       "array([[ 972,    0,    1,    0,    0,    0,    3,    1,    3,    0],\n",
       "       [   0, 1120,    3,    1,    0,    1,    4,    1,    5,    0],\n",
       "       [   5,    4,  992,    5,    4,    0,    4,    7,   11,    0],\n",
       "       [   2,    0,    0,  992,    1,    5,    0,    5,    3,    2],\n",
       "       [   1,    1,    3,    1,  956,    0,    8,    1,    2,    9],\n",
       "       [   2,    0,    0,    6,    0,  874,    4,    1,    4,    1],\n",
       "       [   7,    3,    1,    0,    1,    7,  937,    0,    2,    0],\n",
       "       [   2,    2,   14,    5,    0,    0,    0,  993,    2,   10],\n",
       "       [   6,    0,    4,    5,    3,    3,    2,    5,  940,    6],\n",
       "       [   6,    5,    0,    9,    7,    6,    0,    7,    5,  964]],\n",
       "      dtype=int32)"
      ]
     },
     "execution_count": 28,
     "metadata": {},
     "output_type": "execute_result"
    }
   ],
   "source": [
    "confusion_mat = tf.math.confusion_matrix(labels=true_labels, predictions=pred_labels).numpy()\n",
    "confusion_mat"
   ]
  },
  {
   "cell_type": "code",
   "execution_count": 29,
   "metadata": {},
   "outputs": [
    {
     "data": {
      "image/png": "[encoded data removed]",
      "text/plain": [
       "<Figure size 640x480 with 2 Axes>"
      ]
     },
     "metadata": {},
     "output_type": "display_data"
    }
   ],
   "source": [
    "import pandas as pd\n",
    "import seaborn as sns\n",
    "\n",
    "confusion_mat_norm = np.around(confusion_mat.astype('float') / np.atleast_2d(confusion_mat.sum(axis=1)).T, decimals=2)\n",
    "\n",
    "classes = np.arange(0,10).astype('str')\n",
    "confusion_mat_df = pd.DataFrame(confusion_mat_norm,\n",
    "                                index = classes, \n",
    "                                columns = classes)\n",
    "\n",
    "figure = plt.figure()\n",
    "sns.heatmap(confusion_mat_df, annot=True, cmap=plt.cm.Blues)\n",
    "plt.tight_layout()\n",
    "plt.ylabel('True label')\n",
    "plt.xlabel('Predicted label')\n",
    "plt.show()"
   ]
  },
  {
   "cell_type": "markdown",
   "metadata": {},
   "source": [
    "**Generate new digits and perform classification on them using our model**"
   ]
  },
  {
   "cell_type": "code",
   "execution_count": 30,
   "metadata": {},
   "outputs": [
    {
     "data": {
      "text/plain": [
       "<matplotlib.image.AxesImage at 0x7febd8e6b0d0>"
      ]
     },
     "execution_count": 30,
     "metadata": {},
     "output_type": "execute_result"
    },
    {
     "data": {
      "image/png": "[encoded data removed]",
      "text/plain": [
       "<Figure size 640x480 with 1 Axes>"
      ]
     },
     "metadata": {},
     "output_type": "display_data"
    }
   ],
   "source": [
    "noi = tf.random.normal([1, 100])\n",
    "sample = checkpoint.generator(noi, training=False)\n",
    "fig = plt.figure()\n",
    "plt.imshow(sample[0, :, :, 0], cmap='gray')"
   ]
  },
  {
   "cell_type": "code",
   "execution_count": 31,
   "metadata": {},
   "outputs": [
    {
     "name": "stdout",
     "output_type": "stream",
     "text": [
      "1/1 [==============================] - 0s 18ms/step\n",
      "[[4.9854975e-06 1.5582273e-05 3.4023546e-02 1.1600447e-01 8.2774748e-10\n",
      "  4.3667668e-01 1.0694777e-05 6.1105629e-07 4.1313863e-01 1.2469955e-04]]\n",
      "prediction: 5\n"
     ]
    },
    {
     "data": {
      "image/png": "[encoded data removed]",
      "text/plain": [
       "<Figure size 640x480 with 1 Axes>"
      ]
     },
     "metadata": {},
     "output_type": "display_data"
    }
   ],
   "source": [
    "new_sample = sample[0, :, :, 0].numpy().reshape(1,28,28,1)\n",
    "new_prediction = new_model.predict(new_sample)\n",
    "\n",
    "# get probability distribution and classification of the test digit\n",
    "print(new_prediction)\n",
    "print('prediction:', np.argmax(new_prediction))\n",
    "\n",
    "# draw the barplot\n",
    "plt.figure()\n",
    "plt.bar(np.arange(0,10).astype('str'), new_prediction[0,:])\n",
    "plt.show()"
   ]
  },
  {
   "cell_type": "code",
   "execution_count": 32,
   "metadata": {},
   "outputs": [],
   "source": [
    "# we can save the numpy array of appropriately generated digits as .npy file,\n",
    "# which could be used for further training\n",
    "np.save('generated_numpy.npy', sample[0, :, :, 0].numpy())"
   ]
  },
  {
   "cell_type": "code",
   "execution_count": 33,
   "metadata": {},
   "outputs": [
    {
     "data": {
      "text/plain": [
       "array([[-0.9870455 , -0.9957387 , -0.9999114 , -0.9995829 , -0.99997365,\n",
       "        -0.9998596 , -0.9999683 , -0.9993896 , -0.9999469 , -0.99989855,\n",
       "        -0.9999963 , -0.9999919 , -0.9999998 , -0.9999996 , -1.        ,\n",
       "        -0.99999994, -1.        , -0.9999998 , -0.99999994, -0.9999949 ,\n",
       "        -0.9999954 , -0.99993277, -0.99998796, -0.9997511 , -0.99961174,\n",
       "        -0.99679506, -0.9983578 , -0.9883753 ],\n",
       "       [-0.9929911 , -0.9987237 , -0.99993706, -0.99991035, -0.99998754,\n",
       "        -0.9999025 , -0.9999715 , -0.99989516, -0.9999177 , -0.99992245,\n",
       "        -0.9999997 , -0.9999997 , -1.        , -0.9999999 , -1.        ,\n",
       "        -1.        , -1.        , -0.99999994, -1.        , -0.9999987 ,\n",
       "        -0.9999956 , -0.9999482 , -0.99999654, -0.9999173 , -0.9997349 ,\n",
       "        -0.99752486, -0.9988174 , -0.9691015 ],\n",
       "       [-0.9996644 , -0.99996585, -0.9999998 , -0.99999857, -1.        ,\n",
       "        -0.99999994, -1.        , -0.9999993 , -0.99999964, -0.9999998 ,\n",
       "        -1.        , -1.        , -1.        , -1.        , -1.        ,\n",
       "        -1.        , -1.        , -1.        , -1.        , -1.        ,\n",
       "        -0.9999999 , -0.99999976, -1.        , -1.        , -1.        ,\n",
       "        -0.9999994 , -0.99999845, -0.99988455],\n",
       "       [-0.99787635, -0.99987555, -0.9999987 , -0.99999845, -0.9999998 ,\n",
       "        -0.99999976, -0.99999964, -0.9999952 , -0.99996215, -0.9999804 ,\n",
       "        -0.9999967 , -0.999999  , -0.99999875, -0.99999946, -0.99999964,\n",
       "        -0.9999975 , -0.999999  , -0.99999994, -0.9999998 , -0.99999166,\n",
       "        -0.9997624 , -0.9999911 , -1.        , -1.        , -1.        ,\n",
       "        -0.99999994, -0.9999997 , -0.99945766],\n",
       "       [-0.99996537, -0.9999985 , -1.        , -1.        , -1.        ,\n",
       "        -1.        , -1.        , -1.        , -1.        , -0.99998426,\n",
       "        -0.999994  , -0.99995494, -0.996702  ,  0.70244455,  0.13322628,\n",
       "        -0.7495874 , -0.985627  , -0.9918095 , -0.99853766, -0.97526425,\n",
       "        -0.79623145, -0.9764293 , -0.99999946, -1.        , -1.        ,\n",
       "        -0.99999976, -1.        , -0.9999901 ],\n",
       "       [-0.9997584 , -0.9999915 , -1.        , -1.        , -1.        ,\n",
       "        -1.        , -1.        , -0.9999999 , -0.99999726, -0.9993668 ,\n",
       "        -0.9291339 , -0.00960314,  0.99897885,  0.99999905,  1.        ,\n",
       "         0.9998872 ,  0.9994408 ,  0.97708344,  0.9602977 ,  0.88873017,\n",
       "         0.9944079 ,  0.7300123 , -0.9842588 , -0.9999584 , -0.99998313,\n",
       "        -0.9999659 , -0.99999785, -0.9994806 ],\n",
       "       [-0.99997884, -0.9999983 , -1.        , -1.        , -1.        ,\n",
       "        -1.        , -1.        , -1.        , -0.99999994, -0.99999493,\n",
       "        -0.9973591 , -0.98517305,  0.9952693 ,  0.99997807,  0.9999995 ,\n",
       "         0.99823534,  0.97779393,  0.52195   ,  0.9178417 ,  0.9727832 ,\n",
       "         0.99596775,  0.5243341 , -0.99053484, -0.99998415, -0.9999985 ,\n",
       "        -0.99998164, -0.9999998 , -0.9999959 ],\n",
       "       [-0.9979196 , -0.99977064, -0.9999987 , -0.99999976, -1.        ,\n",
       "        -1.        , -1.        , -0.9999995 , -0.99999976, -0.9999999 ,\n",
       "        -0.99999994, -0.9999975 , -0.9987042 , -0.96003205, -0.93952066,\n",
       "        -0.99718446, -0.9995991 , -0.9998893 , -0.98921394, -0.9420339 ,\n",
       "        -0.91175354, -0.99827486, -0.9999656 , -0.99999017, -0.9999305 ,\n",
       "        -0.99997526, -0.9999998 , -0.9999735 ],\n",
       "       [-0.99895084, -0.9996073 , -0.9999991 , -0.99999994, -1.        ,\n",
       "        -1.        , -1.        , -1.        , -1.        , -1.        ,\n",
       "        -1.        , -1.        , -1.        , -1.        , -1.        ,\n",
       "        -1.        , -1.        , -1.        , -0.9999999 , -0.99999785,\n",
       "        -0.999998  , -0.9999941 , -0.99999964, -0.9999912 , -0.9980975 ,\n",
       "        -0.999158  , -1.        , -0.9999999 ],\n",
       "       [-0.9783319 , -0.9967804 , -0.99997866, -0.9999955 , -1.        ,\n",
       "        -0.99999994, -1.        , -1.        , -1.        , -1.        ,\n",
       "        -1.        , -1.        , -1.        , -1.        , -1.        ,\n",
       "        -1.        , -1.        , -0.99999994, -1.        , -1.        ,\n",
       "        -1.        , -0.9999998 , -0.9999877 , -0.9537246 ,  0.2724465 ,\n",
       "        -0.9994947 , -0.99999994, -0.99999666],\n",
       "       [-0.998358  , -0.9997637 , -0.9999986 , -0.99999934, -1.        ,\n",
       "        -1.        , -1.        , -1.        , -1.        , -1.        ,\n",
       "        -1.        , -1.        , -1.        , -1.        , -1.        ,\n",
       "        -0.99999994, -0.9999999 , -0.99999994, -1.        , -1.        ,\n",
       "        -1.        , -1.        , -0.99999976, -0.99931574, -0.9944358 ,\n",
       "        -0.99999523, -1.        , -1.        ],\n",
       "       [-0.9949192 , -0.9991657 , -0.99998415, -0.9999875 , -0.9999999 ,\n",
       "        -1.        , -1.        , -1.        , -1.        , -1.        ,\n",
       "        -1.        , -0.99999994, -0.99998426, -0.99965435, -0.9987402 ,\n",
       "        -0.97923225, -0.95790255, -0.99998116, -1.        , -1.        ,\n",
       "        -1.        , -1.        , -0.9999999 , -0.99956185, -0.99984324,\n",
       "        -0.99999976, -1.        , -1.        ],\n",
       "       [-0.9998377 , -0.9998852 , -0.9999978 , -0.9999973 , -1.        ,\n",
       "        -1.        , -1.        , -1.        , -1.        , -1.        ,\n",
       "        -1.        , -0.9998601 , -0.28822178,  0.99371064,  0.995744  ,\n",
       "         0.99614036,  0.98374784, -0.98351073, -1.        , -1.        ,\n",
       "        -1.        , -0.9999992 , -0.9999966 , -0.9974708 , -0.952917  ,\n",
       "        -0.99996775, -1.        , -1.        ],\n",
       "       [-0.99872637, -0.99907655, -0.9999369 , -0.9998471 , -0.9999987 ,\n",
       "        -0.9999998 , -1.        , -1.        , -1.        , -0.99999994,\n",
       "        -0.9999654 , -0.2512827 ,  0.99253595,  0.9996848 ,  0.99994063,\n",
       "         0.9997494 ,  0.9994818 , -0.6364719 , -0.9995449 , -0.9999963 ,\n",
       "        -0.9999888 , -0.9999487 , -0.9998546 , -0.8788472 ,  0.65310514,\n",
       "        -0.99960405, -0.9999991 , -0.9998896 ],\n",
       "       [-0.9999225 , -0.9999361 , -0.9999973 , -0.9999497 , -0.9999999 ,\n",
       "        -1.        , -1.        , -1.        , -1.        , -1.        ,\n",
       "        -0.9999997 , -0.9999912 , -0.98381305, -0.5779395 ,  0.06579852,\n",
       "        -0.743665  , -0.9938961 , -0.99987483, -0.99999875, -0.999999  ,\n",
       "        -1.        , -0.99999994, -1.        , -0.99999994, -0.99999833,\n",
       "        -0.999999  , -1.        , -0.99999976],\n",
       "       [-0.9984853 , -0.9996336 , -0.99994385, -0.9997448 , -0.99999386,\n",
       "        -0.9999997 , -1.        , -1.        , -1.        , -1.        ,\n",
       "        -1.        , -1.        , -0.9999999 , -0.9999966 , -0.99997497,\n",
       "        -0.9997119 , -0.99999887, -0.99999994, -1.        , -1.        ,\n",
       "        -1.        , -1.        , -1.        , -1.        , -1.        ,\n",
       "        -1.        , -1.        , -0.9999995 ],\n",
       "       [-0.999946  , -0.99990815, -0.999997  , -0.99994695, -0.99999523,\n",
       "        -0.9999868 , -1.        , -1.        , -1.        , -1.        ,\n",
       "        -1.        , -1.        , -0.9999997 , -0.9997827 , -0.9999785 ,\n",
       "        -0.9999963 , -1.        , -0.9999999 , -0.99999994, -1.        ,\n",
       "        -1.        , -1.        , -1.        , -1.        , -1.        ,\n",
       "        -1.        , -1.        , -1.        ],\n",
       "       [-0.99916   , -0.999571  , -0.9999637 , -0.9994747 , -0.9996155 ,\n",
       "        -0.9889628 , -0.9979624 , -0.99999195, -1.        , -1.        ,\n",
       "        -1.        , -0.9999992 , -0.9936734 , -0.5017432 , -0.8778219 ,\n",
       "        -0.9998526 , -0.99999815, -0.99994427, -0.99953485, -0.99997336,\n",
       "        -0.99999994, -1.        , -1.        , -1.        , -1.        ,\n",
       "        -1.        , -1.        , -0.99999934],\n",
       "       [-0.9999384 , -0.99995756, -0.999998  , -0.99982667, -0.9925297 ,\n",
       "        -0.79857934, -0.97699374, -0.9999499 , -1.        , -1.        ,\n",
       "        -1.        , -0.9999928 ,  0.88429606,  0.9939842 , -0.95623314,\n",
       "        -0.99999523, -0.9999999 , -0.999702  , -0.98884016, -0.9930571 ,\n",
       "        -0.99999994, -1.        , -1.        , -1.        , -1.        ,\n",
       "        -1.        , -1.        , -1.        ],\n",
       "       [-0.9975367 , -0.9993121 , -0.999824  , -0.99763894, -0.86189604,\n",
       "        -0.01595241, -0.18195498, -0.99906856, -0.9999981 , -0.9999999 ,\n",
       "        -0.99999785, -0.9746262 ,  0.8879764 ,  0.85229766, -0.9994276 ,\n",
       "        -0.99999976, -0.99999803, -0.9995606 , -0.70559955, -0.8348531 ,\n",
       "        -0.9997581 , -1.        , -1.        , -1.        , -1.        ,\n",
       "        -1.        , -1.        , -0.9999998 ],\n",
       "       [-0.9996929 , -0.9996559 , -0.9999781 , -0.9995519 , -0.88188463,\n",
       "         0.8945271 ,  0.59518576, -0.98917335, -0.99997985, -0.99988437,\n",
       "        -0.9997671 , -0.6477583 ,  0.9869721 ,  0.13968694, -0.99995863,\n",
       "        -0.99999917, -0.99997747, -0.5827682 ,  0.8449998 ,  0.8123095 ,\n",
       "        -0.80565715, -0.9997742 , -1.        , -1.        , -0.99999994,\n",
       "        -0.999999  , -1.        , -1.        ],\n",
       "       [-0.99730116, -0.99925125, -0.99991864, -0.99909616, -0.9675847 ,\n",
       "         0.5364555 ,  0.7349496 , -0.10083497, -0.5602193 , -0.7890202 ,\n",
       "        -0.8247582 ,  0.26050878,  0.89352596, -0.4757089 , -0.97596675,\n",
       "        -0.99579734, -0.8898616 ,  0.47611332,  0.94368696,  0.9631338 ,\n",
       "         0.98722255, -0.44040436, -0.9565648 , -0.9958896 , -0.9830094 ,\n",
       "        -0.9999939 , -1.        , -0.9999826 ],\n",
       "       [-0.9999564 , -0.9999883 , -0.99999976, -0.99998957, -0.9993561 ,\n",
       "        -0.9450915 , -0.69788647, -0.8299108 , -0.7774457 , -0.31878006,\n",
       "        -0.09226823, -0.18111664,  0.20809817, -0.3614428 , -0.87396574,\n",
       "        -0.97659653, -0.9956339 , -0.98149705, -0.9963031 , -0.997719  ,\n",
       "        -0.98849356, -0.9671629 , -0.98694915, -0.9987433 , -0.99999464,\n",
       "        -0.9999998 , -1.        , -0.99999994],\n",
       "       [-0.99955916, -0.9999683 , -0.9999989 , -0.9999902 , -0.9999029 ,\n",
       "        -0.9993358 , -0.99886197, -0.99475044, -0.93041545, -0.9661722 ,\n",
       "        -0.9837577 , -0.9750951 , -0.9481033 , -0.9381209 , -0.98508704,\n",
       "        -0.99883306, -0.99996835, -0.99999964, -1.        , -1.        ,\n",
       "        -0.9999998 , -0.999999  , -0.9999998 , -0.9999998 , -1.        ,\n",
       "        -1.        , -1.        , -0.99999964],\n",
       "       [-0.999945  , -0.9999921 , -0.99999994, -0.9999991 , -0.9999989 ,\n",
       "        -0.9999827 , -0.9999991 , -0.9999747 , -0.9986248 , -0.99665236,\n",
       "        -0.9999899 , -0.99999666, -0.9999923 , -0.99928623, -0.9999313 ,\n",
       "        -0.99999285, -0.99999976, -1.        , -1.        , -1.        ,\n",
       "        -1.        , -1.        , -1.        , -1.        , -1.        ,\n",
       "        -1.        , -1.        , -1.        ],\n",
       "       [-0.9974807 , -0.99981534, -0.99999523, -0.9999934 , -0.99999815,\n",
       "        -0.99999785, -0.9999996 , -0.99995416, -0.9989797 , -0.9998977 ,\n",
       "        -0.99999976, -0.9999995 , -0.99999875, -0.99997747, -0.99998355,\n",
       "        -0.9999551 , -0.9999966 , -1.        , -1.        , -1.        ,\n",
       "        -1.        , -1.        , -1.        , -1.        , -1.        ,\n",
       "        -1.        , -1.        , -0.99999636],\n",
       "       [-0.99949926, -0.9998916 , -0.9999995 , -0.9999974 , -1.        ,\n",
       "        -1.        , -1.        , -0.99999994, -1.        , -0.9999997 ,\n",
       "        -1.        , -1.        , -1.        , -0.99999994, -0.99999994,\n",
       "        -0.99999076, -1.        , -1.        , -1.        , -1.        ,\n",
       "        -1.        , -1.        , -1.        , -1.        , -1.        ,\n",
       "        -1.        , -1.        , -0.9999999 ],\n",
       "       [-0.98421973, -0.997365  , -0.99993384, -0.99996495, -0.9999983 ,\n",
       "        -0.99999774, -0.99999994, -0.9999984 , -0.9999994 , -0.99999905,\n",
       "        -1.        , -1.        , -1.        , -0.9999977 , -0.99999696,\n",
       "        -0.9998707 , -0.9999883 , -0.9999782 , -0.9999996 , -0.9999977 ,\n",
       "        -0.99999964, -0.9999988 , -1.        , -0.99999994, -1.        ,\n",
       "        -0.9999991 , -0.99999994, -0.99981093]], dtype=float32)"
      ]
     },
     "execution_count": 33,
     "metadata": {},
     "output_type": "execute_result"
    }
   ],
   "source": [
    "# upload the saved numpy array\n",
    "arr = np.load('generated_numpy.npy')\n",
    "arr"
   ]
  }
 ],
 "metadata": {
  "kernelspec": {
   "display_name": "3.10.15",
   "language": "python",
   "name": "python3"
  },
  "language_info": {
   "codemirror_mode": {
    "name": "ipython",
    "version": 3
   },
   "file_extension": ".py",
   "mimetype": "text/x-python",
   "name": "python",
   "nbconvert_exporter": "python",
   "pygments_lexer": "ipython3",
   "version": "3.10.15"
  }
 },
 "nbformat": 4,
 "nbformat_minor": 4
}
