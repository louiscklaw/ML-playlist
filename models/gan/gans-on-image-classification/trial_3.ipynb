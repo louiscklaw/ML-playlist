{
 "cells": [
  {
   "cell_type": "code",
   "execution_count": 197,
   "metadata": {},
   "outputs": [],
   "source": [
    "%matplotlib inline\n",
    "from matplotlib import pyplot as plt\n",
    "import numpy as np\n",
    "import tensorflow as tf\n",
    "from tensorflow import keras\n",
    "from tensorflow.keras import Sequential, layers\n",
    "from tensorflow.keras.layers import Conv2D, MaxPooling2D, Flatten, Dense\n",
    "from tensorflow.keras.utils import to_categorical"
   ]
  },
  {
   "cell_type": "code",
   "execution_count": 198,
   "metadata": {},
   "outputs": [],
   "source": [
    "import glob\n",
    "import os\n",
    "import PIL\n",
    "import time\n",
    "\n",
    "from IPython import display"
   ]
  },
  {
   "cell_type": "code",
   "execution_count": 199,
   "metadata": {},
   "outputs": [],
   "source": [
    "def make_generator_model():\n",
    "    model = tf.keras.Sequential()\n",
    "    model.add(layers.Dense(7*7*256, use_bias=False, input_shape=(100,)))\n",
    "    model.add(layers.BatchNormalization())\n",
    "    model.add(layers.LeakyReLU())\n",
    "\n",
    "    model.add(layers.Reshape((7, 7, 256)))\n",
    "    assert model.output_shape == (None, 7, 7, 256) # Note: None is the batch size\n",
    "\n",
    "    model.add(layers.Conv2DTranspose(128, (5, 5), strides=(1, 1), padding='same', use_bias=False))\n",
    "    assert model.output_shape == (None, 7, 7, 128)\n",
    "    model.add(layers.BatchNormalization())\n",
    "    model.add(layers.LeakyReLU())\n",
    "\n",
    "    model.add(layers.Conv2DTranspose(64, (5, 5), strides=(2, 2), padding='same', use_bias=False))\n",
    "    assert model.output_shape == (None, 14, 14, 64)\n",
    "    model.add(layers.BatchNormalization())\n",
    "    model.add(layers.LeakyReLU())\n",
    "\n",
    "    model.add(layers.Conv2DTranspose(1, (5, 5), strides=(2, 2), padding='same', use_bias=False, activation='tanh'))\n",
    "    assert model.output_shape == (None, 28, 28, 1)\n",
    "\n",
    "    return model"
   ]
  },
  {
   "cell_type": "code",
   "execution_count": 200,
   "metadata": {},
   "outputs": [],
   "source": [
    "def make_discriminator_model():\n",
    "    model = tf.keras.Sequential()\n",
    "    model.add(layers.Conv2D(64, (5, 5), strides=(2, 2), padding='same',\n",
    "                                     input_shape=[28, 28, 1]))\n",
    "    model.add(layers.LeakyReLU())\n",
    "    model.add(layers.Dropout(0.3))\n",
    "\n",
    "    model.add(layers.Conv2D(128, (5, 5), strides=(2, 2), padding='same'))\n",
    "    model.add(layers.LeakyReLU())\n",
    "    model.add(layers.Dropout(0.3))\n",
    "\n",
    "    model.add(layers.Flatten())\n",
    "    model.add(layers.Dense(1))\n",
    "\n",
    "    return model"
   ]
  },
  {
   "cell_type": "code",
   "execution_count": 201,
   "metadata": {},
   "outputs": [],
   "source": [
    "generator = make_generator_model()\n",
    "discriminator = make_discriminator_model()\n",
    "generator_optimizer = tf.keras.optimizers.Adam(1e-4)\n",
    "discriminator_optimizer = tf.keras.optimizers.Adam(1e-4)"
   ]
  },
  {
   "cell_type": "code",
   "execution_count": 202,
   "metadata": {},
   "outputs": [],
   "source": [
    "checkpoint_dir = './training_checkpoints'\n",
    "checkpoint_prefix = os.path.join(checkpoint_dir, \"ckpt\")\n",
    "checkpoint = tf.train.Checkpoint(generator_optimizer=generator_optimizer,\n",
    "                                 discriminator_optimizer=discriminator_optimizer,\n",
    "                                 generator=generator,\n",
    "                                 discriminator=discriminator)"
   ]
  },
  {
   "cell_type": "code",
   "execution_count": 203,
   "metadata": {},
   "outputs": [
    {
     "data": {
      "text/plain": [
       "<tensorflow.python.training.tracking.util.CheckpointLoadStatus at 0x22363621e20>"
      ]
     },
     "execution_count": 203,
     "metadata": {},
     "output_type": "execute_result"
    }
   ],
   "source": [
    "checkpoint.restore(tf.train.latest_checkpoint(checkpoint_dir))"
   ]
  },
  {
   "cell_type": "markdown",
   "metadata": {},
   "source": [
    "Now, we transfer the weights of discriminator except the last layer to a new model, add a dense layer with 128 units, and add another dense layer with 10 units and softmax activation."
   ]
  },
  {
   "cell_type": "code",
   "execution_count": 204,
   "metadata": {},
   "outputs": [
    {
     "name": "stdout",
     "output_type": "stream",
     "text": [
      "Model: \"sequential_8\"\n",
      "_________________________________________________________________\n",
      "Layer (type)                 Output Shape              Param #   \n",
      "=================================================================\n",
      "conv2d_4 (Conv2D)            (None, 14, 14, 64)        1664      \n",
      "_________________________________________________________________\n",
      "leaky_re_lu_13 (LeakyReLU)   (None, 14, 14, 64)        0         \n",
      "_________________________________________________________________\n",
      "dropout_4 (Dropout)          (None, 14, 14, 64)        0         \n",
      "_________________________________________________________________\n",
      "conv2d_5 (Conv2D)            (None, 7, 7, 128)         204928    \n",
      "_________________________________________________________________\n",
      "leaky_re_lu_14 (LeakyReLU)   (None, 7, 7, 128)         0         \n",
      "_________________________________________________________________\n",
      "dropout_5 (Dropout)          (None, 7, 7, 128)         0         \n",
      "_________________________________________________________________\n",
      "flatten_2 (Flatten)          (None, 6272)              0         \n",
      "_________________________________________________________________\n",
      "dense_8 (Dense)              (None, 128)               802944    \n",
      "_________________________________________________________________\n",
      "dense_9 (Dense)              (None, 10)                1290      \n",
      "=================================================================\n",
      "Total params: 1,010,826\n",
      "Trainable params: 804,234\n",
      "Non-trainable params: 206,592\n",
      "_________________________________________________________________\n"
     ]
    }
   ],
   "source": [
    "disc = checkpoint.discriminator\n",
    "\n",
    "new_model = Sequential()\n",
    "for i in range(len(disc.layers) - 1):\n",
    "    new_model.add(disc.layers[i])\n",
    "\n",
    "# freeze the layers \n",
    "for layer in new_model.layers:\n",
    "    layer.trainable = False    \n",
    "\n",
    "new_model.add(Dense(128))\n",
    "new_model.add(Dense(10, activation='softmax'))\n",
    "new_model.summary()"
   ]
  },
  {
   "cell_type": "code",
   "execution_count": 205,
   "metadata": {},
   "outputs": [
    {
     "data": {
      "text/plain": [
       "[<tf.Variable 'dense_8/kernel:0' shape=(6272, 128) dtype=float32, numpy=\n",
       " array([[-0.02609655, -0.0277319 , -0.01037567, ..., -0.02093641,\n",
       "          0.00127452,  0.02796417],\n",
       "        [-0.00387016,  0.00666747, -0.005854  , ..., -0.01654186,\n",
       "          0.01097797,  0.01626744],\n",
       "        [ 0.00509787, -0.0072868 ,  0.00383682, ...,  0.0160715 ,\n",
       "         -0.00372962,  0.00061158],\n",
       "        ...,\n",
       "        [ 0.01429519, -0.01360933, -0.00437338, ...,  0.02191745,\n",
       "         -0.01989727,  0.00432507],\n",
       "        [-0.00119202, -0.00494785,  0.00560394, ...,  0.02623169,\n",
       "         -0.00168538, -0.01669791],\n",
       "        [ 0.01921036,  0.02625481, -0.00265148, ...,  0.0235343 ,\n",
       "         -0.0189764 , -0.01796405]], dtype=float32)>,\n",
       " <tf.Variable 'dense_8/bias:0' shape=(128,) dtype=float32, numpy=\n",
       " array([0., 0., 0., 0., 0., 0., 0., 0., 0., 0., 0., 0., 0., 0., 0., 0., 0.,\n",
       "        0., 0., 0., 0., 0., 0., 0., 0., 0., 0., 0., 0., 0., 0., 0., 0., 0.,\n",
       "        0., 0., 0., 0., 0., 0., 0., 0., 0., 0., 0., 0., 0., 0., 0., 0., 0.,\n",
       "        0., 0., 0., 0., 0., 0., 0., 0., 0., 0., 0., 0., 0., 0., 0., 0., 0.,\n",
       "        0., 0., 0., 0., 0., 0., 0., 0., 0., 0., 0., 0., 0., 0., 0., 0., 0.,\n",
       "        0., 0., 0., 0., 0., 0., 0., 0., 0., 0., 0., 0., 0., 0., 0., 0., 0.,\n",
       "        0., 0., 0., 0., 0., 0., 0., 0., 0., 0., 0., 0., 0., 0., 0., 0., 0.,\n",
       "        0., 0., 0., 0., 0., 0., 0., 0., 0.], dtype=float32)>]"
      ]
     },
     "execution_count": 205,
     "metadata": {},
     "output_type": "execute_result"
    }
   ],
   "source": [
    "# view the initialized weights and bias of the second last dense layer; weights are uniformly randomly generated \n",
    "# and biases are all zeroes by default\n",
    "new_model.layers[-2].weights"
   ]
  },
  {
   "cell_type": "code",
   "execution_count": 206,
   "metadata": {},
   "outputs": [
    {
     "name": "stdout",
     "output_type": "stream",
     "text": [
      "(60000, 28, 28) (60000,) (10000, 28, 28) (10000,) \n",
      "\n",
      "(10000, 28, 28) (10000,) (10000, 28, 28) (10000,)\n"
     ]
    }
   ],
   "source": [
    "(train_img, train_lb), (test_img, test_lb) = tf.keras.datasets.mnist.load_data()\n",
    "\n",
    "print(train_img.shape, train_lb.shape, test_img.shape, test_lb.shape, '\\n')\n",
    "\n",
    "# set random seed\n",
    "np.random.seed(42)\n",
    "trainsize = 10000  # number of training images we use, selected randomly\n",
    "randtrain = np.random.choice(train_img.shape[0], trainsize, replace=False)\n",
    "X_train, y_train = train_img[randtrain], train_lb[randtrain]\n",
    "\n",
    "np.random.seed(10)\n",
    "testsize = 10000  # number of testing images we use, selected randomly\n",
    "randtest = np.random.choice(test_img.shape[0], testsize, replace=False)\n",
    "X_test, y_test = test_img[randtest], test_lb[randtest]\n",
    "\n",
    "print(X_train.shape, y_train.shape, X_test.shape, y_test.shape)"
   ]
  },
  {
   "cell_type": "code",
   "execution_count": 207,
   "metadata": {},
   "outputs": [
    {
     "name": "stdout",
     "output_type": "stream",
     "text": [
      "Epoch 1/7\n",
      "100/100 [==============================] - 9s 89ms/step - loss: 1.4209 - accuracy: 0.6285 - val_loss: 0.9118 - val_accuracy: 0.8189\n",
      "Epoch 2/7\n",
      "100/100 [==============================] - 8s 75ms/step - loss: 0.8009 - accuracy: 0.8194 - val_loss: 0.6481 - val_accuracy: 0.8583\n",
      "Epoch 3/7\n",
      "100/100 [==============================] - 8s 77ms/step - loss: 0.6263 - accuracy: 0.8496 - val_loss: 0.5370 - val_accuracy: 0.8740\n",
      "Epoch 4/7\n",
      "100/100 [==============================] - 8s 78ms/step - loss: 0.5414 - accuracy: 0.8608 - val_loss: 0.4740 - val_accuracy: 0.8855\n",
      "Epoch 5/7\n",
      "100/100 [==============================] - 8s 79ms/step - loss: 0.4875 - accuracy: 0.8746 - val_loss: 0.4311 - val_accuracy: 0.8944\n",
      "Epoch 6/7\n",
      "100/100 [==============================] - 7s 74ms/step - loss: 0.4492 - accuracy: 0.8799 - val_loss: 0.4011 - val_accuracy: 0.9002\n",
      "Epoch 7/7\n",
      "100/100 [==============================] - 8s 77ms/step - loss: 0.4193 - accuracy: 0.8899 - val_loss: 0.3777 - val_accuracy: 0.9050\n"
     ]
    }
   ],
   "source": [
    "train_images = X_train.reshape((trainsize, 28, 28, 1))\n",
    "train_images = (train_images.astype('float32') - 127.5) / 127.5\n",
    "\n",
    "test_images = X_test.reshape((testsize, 28, 28, 1))\n",
    "test_images = (test_images.astype('float32') - 127.5) / 127.5\n",
    "\n",
    "train_labels = to_categorical(y_train)\n",
    "test_labels = to_categorical(y_test)\n",
    "\n",
    "new_model.compile(optimizer='sgd',\n",
    "                  loss='categorical_crossentropy',\n",
    "                  metrics=['accuracy'])\n",
    "\n",
    "history1 = new_model.fit(train_images, train_labels, batch_size=100, epochs=7,\n",
    "                        validation_data=(test_images, test_labels))\n"
   ]
  },
  {
   "cell_type": "code",
   "execution_count": 208,
   "metadata": {},
   "outputs": [
    {
     "name": "stdout",
     "output_type": "stream",
     "text": [
      "Epoch 1/8\n",
      "100/100 [==============================] - 13s 130ms/step - loss: 0.3584 - accuracy: 0.8935 - val_loss: 0.3046 - val_accuracy: 0.9136\n",
      "Epoch 2/8\n",
      "100/100 [==============================] - 13s 126ms/step - loss: 0.3154 - accuracy: 0.9048 - val_loss: 0.2778 - val_accuracy: 0.9205\n",
      "Epoch 3/8\n",
      "100/100 [==============================] - 13s 126ms/step - loss: 0.2916 - accuracy: 0.9131 - val_loss: 0.2602 - val_accuracy: 0.9246\n",
      "Epoch 4/8\n",
      "100/100 [==============================] - 13s 127ms/step - loss: 0.2690 - accuracy: 0.9197 - val_loss: 0.2462 - val_accuracy: 0.9273\n",
      "Epoch 5/8\n",
      "100/100 [==============================] - 13s 126ms/step - loss: 0.2513 - accuracy: 0.9261 - val_loss: 0.2292 - val_accuracy: 0.9321\n",
      "Epoch 6/8\n",
      "100/100 [==============================] - 13s 126ms/step - loss: 0.2347 - accuracy: 0.9288 - val_loss: 0.2177 - val_accuracy: 0.9360\n",
      "Epoch 7/8\n",
      "100/100 [==============================] - 13s 126ms/step - loss: 0.2222 - accuracy: 0.9340 - val_loss: 0.2074 - val_accuracy: 0.9390\n",
      "Epoch 8/8\n",
      "100/100 [==============================] - 13s 126ms/step - loss: 0.2081 - accuracy: 0.9375 - val_loss: 0.1978 - val_accuracy: 0.9419\n"
     ]
    }
   ],
   "source": [
    "# unfreeze all layers \n",
    "for layer in new_model.layers:\n",
    "    layer.trainable = True\n",
    "\n",
    "# optimizer=new_model.optimizer\n",
    "# optimizer.learning_rate=0.005\n",
    "    \n",
    "new_model.compile(optimizer='sgd',\n",
    "                  loss='categorical_crossentropy',\n",
    "                  metrics=['accuracy'])\n",
    "\n",
    "history2 = new_model.fit(train_images, train_labels, batch_size=100, epochs=8,\n",
    "                        validation_data=(test_images, test_labels)) \n"
   ]
  },
  {
   "cell_type": "code",
   "execution_count": 209,
   "metadata": {},
   "outputs": [
    {
     "data": {
      "image/png": "[encoded data removed]",
      "text/plain": [
       "<Figure size 432x288 with 1 Axes>"
      ]
     },
     "metadata": {
      "needs_background": "light"
     },
     "output_type": "display_data"
    }
   ],
   "source": [
    "accuracy = history1.history['accuracy'] + history2.history['accuracy']\n",
    "val_accuracy = history1.history['val_accuracy'] + history2.history['val_accuracy']\n",
    "\n",
    "plt.figure()\n",
    "plt.plot(accuracy, label='accuracy')\n",
    "plt.plot(val_accuracy, label = 'val_accuracy')\n",
    "plt.xlabel('Epoch')\n",
    "plt.ylabel('Accuracy')\n",
    "plt.ylim([0.3, 1])\n",
    "plt.legend(loc='lower right')\n",
    "plt.show()"
   ]
  },
  {
   "cell_type": "markdown",
   "metadata": {},
   "source": [
    "We can see that, using the tuned discriminator model, both training accuracy and testing are approximately 0.94 after 15 epochs."
   ]
  },
  {
   "cell_type": "code",
   "execution_count": 287,
   "metadata": {},
   "outputs": [
    {
     "name": "stdout",
     "output_type": "stream",
     "text": [
      "actual label: 7\n"
     ]
    },
    {
     "data": {
      "image/png": "[encoded data removed]",
      "text/plain": [
       "<Figure size 432x288 with 1 Axes>"
      ]
     },
     "metadata": {
      "needs_background": "light"
     },
     "output_type": "display_data"
    },
    {
     "name": "stdout",
     "output_type": "stream",
     "text": [
      "[[6.5365425e-06 1.0835814e-02 1.5076936e-02 6.1232589e-02 2.4876423e-02\n",
      "  3.1130216e-03 2.1443324e-04 8.7502033e-01 2.9096706e-03 6.7142393e-03]]\n",
      "prediction: 7\n"
     ]
    },
    {
     "data": {
      "image/png": "[encoded data removed]",
      "text/plain": [
       "<Figure size 432x288 with 1 Axes>"
      ]
     },
     "metadata": {
      "needs_background": "light"
     },
     "output_type": "display_data"
    }
   ],
   "source": [
    "# demonstration: predict the ith test digit\n",
    "i = np.random.randint(0, trainsize)\n",
    "\n",
    "# show the actual ith digit\n",
    "print('actual label:', np.argmax(test_labels[i]))\n",
    "plt.figure()\n",
    "plt.imshow(test_images[i,:,:,0], cmap='gray')\n",
    "plt.show()\n",
    "\n",
    "# predict\n",
    "prediction = new_model.predict(test_images[i].reshape(1,28,28,1))\n",
    "\n",
    "# get probability distribution and classification of the test digit\n",
    "print(prediction)\n",
    "print('prediction:', np.argmax(prediction))\n",
    "\n",
    "# draw the barplot\n",
    "plt.figure()\n",
    "plt.bar(np.arange(0,10).astype('str'), prediction[0,:])\n",
    "plt.show()"
   ]
  },
  {
   "cell_type": "markdown",
   "metadata": {},
   "source": [
    "**Get Confusion Matrix**"
   ]
  },
  {
   "cell_type": "code",
   "execution_count": 211,
   "metadata": {},
   "outputs": [],
   "source": [
    "pred_labels = new_model.predict(test_images).argmax(axis=1)\n",
    "true_labels = test_labels.argmax(axis=1)"
   ]
  },
  {
   "cell_type": "code",
   "execution_count": 212,
   "metadata": {},
   "outputs": [
    {
     "data": {
      "text/plain": [
       "array([[ 958,    0,    2,    1,    1,    6,    9,    1,    2,    0],\n",
       "       [   0, 1112,    4,    2,    0,    3,    4,    0,   10,    0],\n",
       "       [  10,    1,  960,   15,   10,    2,    4,   11,   16,    3],\n",
       "       [   0,    0,   14,  960,    1,   13,    0,   10,    8,    4],\n",
       "       [   2,    2,    4,    2,  927,    1,   13,    2,    8,   21],\n",
       "       [   4,    1,    1,   18,    0,  841,   10,    2,   10,    5],\n",
       "       [  13,    3,    5,    1,   10,    7,  916,    0,    3,    0],\n",
       "       [   3,    5,   27,   11,    3,    2,    0,  942,    2,   33],\n",
       "       [   5,    3,   11,   17,    6,   18,    7,   10,  885,   12],\n",
       "       [  10,    5,    2,   14,   23,   11,    0,   17,    9,  918]])"
      ]
     },
     "execution_count": 212,
     "metadata": {},
     "output_type": "execute_result"
    }
   ],
   "source": [
    "confusion_mat = tf.math.confusion_matrix(labels=true_labels, predictions=pred_labels).numpy()\n",
    "confusion_mat"
   ]
  },
  {
   "cell_type": "code",
   "execution_count": 213,
   "metadata": {},
   "outputs": [
    {
     "data": {
      "image/png": "[encoded data removed]",
      "text/plain": [
       "<Figure size 432x288 with 2 Axes>"
      ]
     },
     "metadata": {
      "needs_background": "light"
     },
     "output_type": "display_data"
    }
   ],
   "source": [
    "import pandas as pd\n",
    "import seaborn as sns\n",
    "\n",
    "confusion_mat_norm = np.around(confusion_mat.astype('float') / np.atleast_2d(confusion_mat.sum(axis=1)).T, decimals=2)\n",
    "\n",
    "classes = np.arange(0,10).astype('str')\n",
    "confusion_mat_df = pd.DataFrame(confusion_mat_norm,\n",
    "                                index = classes, \n",
    "                                columns = classes)\n",
    "\n",
    "figure = plt.figure()\n",
    "sns.heatmap(confusion_mat_df, annot=True, cmap=plt.cm.Blues)\n",
    "plt.tight_layout()\n",
    "plt.ylabel('True label')\n",
    "plt.xlabel('Predicted label')\n",
    "plt.show()"
   ]
  },
  {
   "cell_type": "markdown",
   "metadata": {},
   "source": [
    "**Generate new digits and perform classification on them using our model**"
   ]
  },
  {
   "cell_type": "code",
   "execution_count": 593,
   "metadata": {},
   "outputs": [
    {
     "data": {
      "text/plain": [
       "<matplotlib.image.AxesImage at 0x22375a18b20>"
      ]
     },
     "execution_count": 593,
     "metadata": {},
     "output_type": "execute_result"
    },
    {
     "data": {
      "image/png": "[encoded data removed]",
      "text/plain": [
       "<Figure size 432x288 with 1 Axes>"
      ]
     },
     "metadata": {
      "needs_background": "light"
     },
     "output_type": "display_data"
    }
   ],
   "source": [
    "noi = tf.random.normal([1, 100])\n",
    "sample = checkpoint.generator(noi, training=False)\n",
    "fig = plt.figure()\n",
    "plt.imshow(sample[0, :, :, 0], cmap='gray')"
   ]
  },
  {
   "cell_type": "code",
   "execution_count": 594,
   "metadata": {},
   "outputs": [
    {
     "name": "stdout",
     "output_type": "stream",
     "text": [
      "[[1.17587626e-06 2.61588951e-07 1.12175139e-05 3.84650484e-04\n",
      "  9.89725649e-01 5.12012521e-05 2.99884923e-05 5.82423636e-05\n",
      "  1.17979886e-04 9.61967837e-03]]\n",
      "prediction: 4\n"
     ]
    },
    {
     "data": {
      "image/png": "[encoded data removed]",
      "text/plain": [
       "<Figure size 432x288 with 1 Axes>"
      ]
     },
     "metadata": {
      "needs_background": "light"
     },
     "output_type": "display_data"
    }
   ],
   "source": [
    "new_sample = sample[0, :, :, 0].numpy().reshape(1,28,28,1)\n",
    "new_prediction = new_model.predict(new_sample)\n",
    "\n",
    "# get probability distribution and classification of the test digit\n",
    "print(new_prediction)\n",
    "print('prediction:', np.argmax(new_prediction))\n",
    "\n",
    "# draw the barplot\n",
    "plt.figure()\n",
    "plt.bar(np.arange(0,10).astype('str'), new_prediction[0,:])\n",
    "plt.show()"
   ]
  },
  {
   "cell_type": "code",
   "execution_count": 595,
   "metadata": {},
   "outputs": [],
   "source": [
    "# we can save the numpy array of appropriately generated digits as .npy file,\n",
    "# which could be used for further training\n",
    "np.save('generated_numpy.npy', sample[0, :, :, 0].numpy())"
   ]
  },
  {
   "cell_type": "code",
   "execution_count": 596,
   "metadata": {},
   "outputs": [
    {
     "data": {
      "text/plain": [
       "array([[-9.49534893e-01, -9.86528456e-01, -9.99285519e-01,\n",
       "        -9.97798085e-01, -9.98131394e-01, -9.95345831e-01,\n",
       "        -9.98467088e-01, -9.96410429e-01, -9.97210026e-01,\n",
       "        -9.95588899e-01, -9.98214006e-01, -9.94818628e-01,\n",
       "        -9.95189965e-01, -9.90433812e-01, -9.96758103e-01,\n",
       "        -9.93207753e-01, -9.95950997e-01, -9.94643390e-01,\n",
       "        -9.98383582e-01, -9.94490623e-01, -9.95909452e-01,\n",
       "        -9.93099272e-01, -9.95687783e-01, -9.84543502e-01,\n",
       "        -9.91695166e-01, -9.88400519e-01, -9.95296717e-01,\n",
       "        -9.90459859e-01],\n",
       "       [-9.79973137e-01, -9.97185290e-01, -9.99705136e-01,\n",
       "        -9.98787701e-01, -9.98795152e-01, -9.97791350e-01,\n",
       "        -9.98740435e-01, -9.96048748e-01, -9.98191237e-01,\n",
       "        -9.97793138e-01, -9.98917401e-01, -9.95453119e-01,\n",
       "        -9.94757175e-01, -9.90256965e-01, -9.96375024e-01,\n",
       "        -9.88713682e-01, -9.93646681e-01, -9.92658973e-01,\n",
       "        -9.97341037e-01, -9.89845634e-01, -9.94903684e-01,\n",
       "        -9.93302286e-01, -9.95988309e-01, -9.96336460e-01,\n",
       "        -9.98335719e-01, -9.98610377e-01, -9.99383032e-01,\n",
       "        -9.98291552e-01],\n",
       "       [-9.96217608e-01, -9.99665916e-01, -9.99967992e-01,\n",
       "        -9.99883354e-01, -9.99625683e-01, -9.99600768e-01,\n",
       "        -9.98822927e-01, -9.97800171e-01, -9.97893453e-01,\n",
       "        -9.99156177e-01, -9.98989582e-01, -9.98158276e-01,\n",
       "        -9.97479200e-01, -9.96959448e-01, -9.95687664e-01,\n",
       "        -9.91187215e-01, -9.77996588e-01, -9.88575697e-01,\n",
       "        -9.89979565e-01, -9.80396330e-01, -9.88150895e-01,\n",
       "        -9.98604774e-01, -9.99247372e-01, -9.99522448e-01,\n",
       "        -9.99972224e-01, -9.99990940e-01, -9.99995708e-01,\n",
       "        -9.99979377e-01],\n",
       "       [-9.93233562e-01, -9.99221444e-01, -9.99873519e-01,\n",
       "        -9.99871790e-01, -9.98983860e-01, -9.98611391e-01,\n",
       "        -9.93793309e-01, -9.93553817e-01, -9.81269956e-01,\n",
       "        -9.95623052e-01, -9.95163858e-01, -9.98002887e-01,\n",
       "        -9.96346533e-01, -9.97558892e-01, -9.86363709e-01,\n",
       "        -9.73264694e-01, -6.44412339e-01, -6.42411113e-01,\n",
       "        -6.62684500e-01, -7.30873942e-01, -8.70042264e-01,\n",
       "        -9.92637575e-01, -9.98892903e-01, -9.99899387e-01,\n",
       "        -9.99991179e-01, -9.99998808e-01, -9.99999166e-01,\n",
       "        -9.99990642e-01],\n",
       "       [-9.96266842e-01, -9.99450445e-01, -9.99983668e-01,\n",
       "        -9.99964416e-01, -9.99922872e-01, -9.99400795e-01,\n",
       "        -9.98753786e-01, -9.86708760e-01, -9.61167455e-01,\n",
       "        -9.75510061e-01, -9.98111188e-01, -9.99683797e-01,\n",
       "        -9.99968410e-01, -9.99960780e-01, -9.99303162e-01,\n",
       "        -8.50431561e-01,  3.61558199e-01,  4.95606154e-01,\n",
       "         4.09703523e-01,  6.62211716e-01, -4.86765325e-01,\n",
       "        -9.90162075e-01, -9.99868214e-01, -9.99986172e-01,\n",
       "        -1.00000000e+00, -1.00000000e+00, -1.00000000e+00,\n",
       "        -9.99998450e-01],\n",
       "       [-9.96657252e-01, -9.99601543e-01, -9.99987245e-01,\n",
       "        -9.99980867e-01, -9.99989271e-01, -9.99963939e-01,\n",
       "        -9.99803007e-01, -9.99077559e-01, -9.93032038e-01,\n",
       "        -9.97304499e-01, -9.99901891e-01, -9.99990046e-01,\n",
       "        -9.99998689e-01, -9.99988317e-01, -9.99644995e-01,\n",
       "        -8.78079474e-01,  4.16422546e-01,  8.01236272e-01,\n",
       "         5.23829222e-01,  3.70697320e-01, -6.47504807e-01,\n",
       "        -9.96349871e-01, -9.99983907e-01, -9.99999702e-01,\n",
       "        -1.00000000e+00, -1.00000000e+00, -1.00000000e+00,\n",
       "        -9.99993324e-01],\n",
       "       [-9.98381972e-01, -9.99889553e-01, -9.99998093e-01,\n",
       "        -9.99998510e-01, -1.00000000e+00, -1.00000000e+00,\n",
       "        -1.00000000e+00, -9.99998629e-01, -9.99999344e-01,\n",
       "        -9.99999166e-01, -1.00000000e+00, -1.00000000e+00,\n",
       "        -1.00000000e+00, -9.99996841e-01, -9.99677241e-01,\n",
       "        -7.53521264e-01,  3.48289222e-01, -1.68712184e-01,\n",
       "        -2.14659244e-01,  4.42540884e-01, -8.57677042e-01,\n",
       "        -9.99758184e-01, -1.00000000e+00, -1.00000000e+00,\n",
       "        -1.00000000e+00, -1.00000000e+00, -1.00000000e+00,\n",
       "        -9.99995828e-01],\n",
       "       [-9.98209000e-01, -9.99836385e-01, -9.99997854e-01,\n",
       "        -1.00000000e+00, -1.00000000e+00, -1.00000000e+00,\n",
       "        -1.00000000e+00, -1.00000000e+00, -1.00000000e+00,\n",
       "        -1.00000000e+00, -1.00000000e+00, -1.00000000e+00,\n",
       "        -9.99997616e-01, -9.99202669e-01, -9.83506739e-01,\n",
       "        -3.29824001e-01,  1.86640173e-02, -4.60278004e-01,\n",
       "        -6.95711255e-01, -5.02586365e-01, -9.60747659e-01,\n",
       "        -9.99976277e-01, -1.00000000e+00, -1.00000000e+00,\n",
       "        -1.00000000e+00, -1.00000000e+00, -1.00000000e+00,\n",
       "        -9.99993622e-01],\n",
       "       [-9.99556363e-01, -9.99974072e-01, -1.00000000e+00,\n",
       "        -1.00000000e+00, -1.00000000e+00, -1.00000000e+00,\n",
       "        -1.00000000e+00, -1.00000000e+00, -1.00000000e+00,\n",
       "        -1.00000000e+00, -1.00000000e+00, -9.99999702e-01,\n",
       "        -9.98661041e-01, -8.24686289e-01, -2.81905532e-01,\n",
       "         1.39898598e-01, -3.52831781e-01, -8.17999303e-01,\n",
       "        -8.23713124e-01, -4.63128895e-01, -9.64076161e-01,\n",
       "        -9.99989152e-01, -1.00000000e+00, -1.00000000e+00,\n",
       "        -1.00000000e+00, -1.00000000e+00, -1.00000000e+00,\n",
       "        -9.99994099e-01],\n",
       "       [-9.99526441e-01, -9.99971390e-01, -1.00000000e+00,\n",
       "        -1.00000000e+00, -1.00000000e+00, -1.00000000e+00,\n",
       "        -1.00000000e+00, -1.00000000e+00, -1.00000000e+00,\n",
       "        -1.00000000e+00, -9.99999285e-01, -9.90410864e-01,\n",
       "         8.21437657e-01,  9.96605217e-01,  8.23546946e-01,\n",
       "         5.35897791e-01, -5.00180483e-01, -2.86446661e-01,\n",
       "        -3.35336834e-01, -6.23048842e-02, -9.71973121e-01,\n",
       "        -9.99972105e-01, -1.00000000e+00, -1.00000000e+00,\n",
       "        -1.00000000e+00, -1.00000000e+00, -9.99999344e-01,\n",
       "        -9.99960303e-01],\n",
       "       [-9.99574244e-01, -9.99982417e-01, -1.00000000e+00,\n",
       "        -1.00000000e+00, -1.00000000e+00, -1.00000000e+00,\n",
       "        -1.00000000e+00, -1.00000000e+00, -1.00000000e+00,\n",
       "        -1.00000000e+00, -9.97106671e-01,  7.61885405e-01,\n",
       "         9.98344839e-01,  9.74961579e-01,  1.58703238e-01,\n",
       "        -3.98418933e-01, -2.03961328e-01,  4.11753178e-01,\n",
       "         8.02791953e-01,  7.19116926e-01, -9.36069608e-01,\n",
       "        -9.99950647e-01, -9.99999583e-01, -1.00000000e+00,\n",
       "        -1.00000000e+00, -9.99999702e-01, -9.99992311e-01,\n",
       "        -9.99882221e-01],\n",
       "       [-9.99279618e-01, -9.99951363e-01, -9.99998033e-01,\n",
       "        -9.99998927e-01, -1.00000000e+00, -1.00000000e+00,\n",
       "        -1.00000000e+00, -1.00000000e+00, -9.99999523e-01,\n",
       "        -9.99120831e-01, -2.90654868e-01,  9.71368551e-01,\n",
       "         9.83935714e-01, -3.37734938e-01, -9.52622771e-01,\n",
       "        -7.36622274e-01,  1.04502656e-01,  8.34925473e-01,\n",
       "         9.71886337e-01,  7.86417842e-01, -8.77190173e-01,\n",
       "        -9.99933183e-01, -9.99996006e-01, -9.99999166e-01,\n",
       "        -9.99998331e-01, -9.99986231e-01, -9.99917686e-01,\n",
       "        -9.99343276e-01],\n",
       "       [-9.99111176e-01, -9.99896288e-01, -9.99997914e-01,\n",
       "        -9.99999106e-01, -1.00000000e+00, -1.00000000e+00,\n",
       "        -1.00000000e+00, -1.00000000e+00, -9.99921858e-01,\n",
       "        -9.14430380e-01,  5.34436405e-01,  9.71066773e-01,\n",
       "         8.87651205e-01, -8.00661862e-01, -9.83094454e-01,\n",
       "        -9.02134061e-01, -2.65487373e-01,  8.68827224e-01,\n",
       "         9.46119726e-01,  5.86241364e-01, -9.68835592e-01,\n",
       "        -9.99970496e-01, -9.99994636e-01, -9.99921858e-01,\n",
       "        -9.99958873e-01, -9.99810815e-01, -9.99752760e-01,\n",
       "        -9.98851120e-01],\n",
       "       [-9.98128712e-01, -9.99522984e-01, -9.99996126e-01,\n",
       "        -9.99997497e-01, -1.00000000e+00, -1.00000000e+00,\n",
       "        -9.99999821e-01, -9.99902427e-01, -9.90676701e-01,\n",
       "        -4.78072092e-02,  6.95921838e-01,  9.61344481e-01,\n",
       "         2.95858681e-01, -4.83181439e-02, -9.45898533e-01,\n",
       "        -4.56142634e-01,  3.50123525e-01,  9.64417398e-01,\n",
       "         7.40885139e-01, -2.80717969e-01, -9.97521341e-01,\n",
       "        -9.99982059e-01, -9.99990940e-01, -9.99687731e-01,\n",
       "        -9.98115122e-01, -9.97466147e-01, -9.99227464e-01,\n",
       "        -9.99170899e-01],\n",
       "       [-9.99331117e-01, -9.99956727e-01, -9.99999464e-01,\n",
       "        -9.99999225e-01, -9.99996901e-01, -9.99958158e-01,\n",
       "        -9.98866200e-01, -9.27546918e-01,  3.65551710e-01,\n",
       "         6.54976904e-01,  9.72549736e-01,  9.96845365e-01,\n",
       "         9.95494783e-01,  9.46830094e-01,  4.61113155e-01,\n",
       "         7.85523593e-01,  9.84112322e-01,  9.94847000e-01,\n",
       "         9.19272423e-01, -8.60991240e-01, -9.99977052e-01,\n",
       "        -9.99999702e-01, -9.99996841e-01, -9.96709824e-01,\n",
       "        -9.84367013e-01, -9.96982813e-01, -9.99755263e-01,\n",
       "        -9.99906361e-01],\n",
       "       [-9.99434471e-01, -9.99946654e-01, -9.99998689e-01,\n",
       "        -9.99996662e-01, -9.99657571e-01, -9.72848833e-01,\n",
       "        -6.61530495e-01,  2.86899954e-01,  9.32913542e-01,\n",
       "         9.17725861e-01,  9.95102108e-01,  9.99333084e-01,\n",
       "         9.99750376e-01,  9.95035946e-01,  9.37851787e-01,\n",
       "         9.59816933e-01,  9.98519897e-01,  9.99520779e-01,\n",
       "         9.67531383e-01, -9.67202663e-01, -9.99993086e-01,\n",
       "        -9.99999762e-01, -9.99994159e-01, -9.96726394e-01,\n",
       "        -9.55646634e-01, -9.97956693e-01, -9.99850452e-01,\n",
       "        -9.99835253e-01],\n",
       "       [-9.99779582e-01, -9.99982417e-01, -9.99999344e-01,\n",
       "        -9.99978542e-01, -9.64939475e-01,  4.84863669e-01,\n",
       "         8.15878332e-01,  8.21296275e-01,  6.98397100e-01,\n",
       "         4.55538154e-01,  8.80334198e-01,  9.91754174e-01,\n",
       "         9.70565498e-01,  6.01493418e-01,  9.99688637e-04,\n",
       "         9.82423127e-01,  9.99853551e-01,  9.99894619e-01,\n",
       "         9.12741482e-01, -9.92580533e-01, -9.99999404e-01,\n",
       "        -1.00000000e+00, -9.99998093e-01, -9.88664269e-01,\n",
       "        -9.65961277e-01, -9.96336639e-01, -9.99787688e-01,\n",
       "        -9.99597549e-01],\n",
       "       [-9.99662101e-01, -9.99920785e-01, -9.99995947e-01,\n",
       "        -9.99605834e-01, -8.11859608e-01,  8.71748447e-01,\n",
       "         2.01233715e-01, -5.93717039e-01, -9.83347833e-01,\n",
       "        -9.98196959e-01, -9.99125481e-01, -9.98343587e-01,\n",
       "        -9.99685407e-01, -9.99922216e-01, -9.94935870e-01,\n",
       "         9.24591064e-01,  9.99967396e-01,  9.99951601e-01,\n",
       "        -3.15017045e-01, -9.99809325e-01, -1.00000000e+00,\n",
       "        -1.00000000e+00, -9.99986410e-01, -9.88198340e-01,\n",
       "        -9.59485114e-01, -9.93275106e-01, -9.99083400e-01,\n",
       "        -9.98711705e-01],\n",
       "       [-9.99694943e-01, -9.99977767e-01, -9.99997318e-01,\n",
       "        -9.99229252e-01, -6.03527248e-01,  3.67644936e-01,\n",
       "        -6.24199033e-01, -9.86663342e-01, -9.99994516e-01,\n",
       "        -1.00000000e+00, -1.00000000e+00, -1.00000000e+00,\n",
       "        -1.00000000e+00, -1.00000000e+00, -9.99999881e-01,\n",
       "         8.21743965e-01,  9.99993742e-01,  9.99286771e-01,\n",
       "        -9.20956731e-01, -9.99997735e-01, -1.00000000e+00,\n",
       "        -9.99999762e-01, -9.99741197e-01, -9.72987235e-01,\n",
       "        -9.81721461e-01, -9.98057604e-01, -9.99532461e-01,\n",
       "        -9.99280930e-01],\n",
       "       [-9.99573827e-01, -9.99673069e-01, -9.99943376e-01,\n",
       "        -9.96434987e-01, -4.88625765e-01, -4.87863362e-01,\n",
       "        -9.83524263e-01, -9.99574006e-01, -9.99998689e-01,\n",
       "        -1.00000000e+00, -1.00000000e+00, -1.00000000e+00,\n",
       "        -1.00000000e+00, -1.00000000e+00, -9.99999642e-01,\n",
       "         7.73143172e-01,  9.99978602e-01,  9.69746590e-01,\n",
       "        -9.97488916e-01, -9.99999106e-01, -1.00000000e+00,\n",
       "        -9.99995112e-01, -9.98488009e-01, -9.94842470e-01,\n",
       "        -9.96194303e-01, -9.99799967e-01, -9.99878407e-01,\n",
       "        -9.99238610e-01],\n",
       "       [-9.99397099e-01, -9.99891341e-01, -9.99989986e-01,\n",
       "        -9.99681115e-01, -9.89223123e-01, -9.74066019e-01,\n",
       "        -9.98149395e-01, -9.99582589e-01, -9.99986827e-01,\n",
       "        -1.00000000e+00, -1.00000000e+00, -1.00000000e+00,\n",
       "        -1.00000000e+00, -1.00000000e+00, -1.00000000e+00,\n",
       "         9.64825571e-01,  9.99992132e-01,  9.73698914e-01,\n",
       "        -9.98373091e-01, -9.99998510e-01, -1.00000000e+00,\n",
       "        -9.99982357e-01, -9.97947633e-01, -9.94944751e-01,\n",
       "        -9.99746203e-01, -9.99942780e-01, -9.99963403e-01,\n",
       "        -9.99253094e-01],\n",
       "       [-9.99262989e-01, -9.99884665e-01, -9.99993920e-01,\n",
       "        -9.99825895e-01, -9.99216020e-01, -9.96882081e-01,\n",
       "        -9.95864570e-01, -9.80762422e-01, -9.98168528e-01,\n",
       "        -9.99999523e-01, -1.00000000e+00, -1.00000000e+00,\n",
       "        -1.00000000e+00, -1.00000000e+00, -9.99651790e-01,\n",
       "         9.98249173e-01,  9.99982774e-01,  9.90219057e-01,\n",
       "        -9.92723107e-01, -9.99941409e-01, -9.99987304e-01,\n",
       "        -9.99870539e-01, -9.99162316e-01, -9.99416530e-01,\n",
       "        -9.99851346e-01, -9.99947071e-01, -9.99920368e-01,\n",
       "        -9.99148011e-01],\n",
       "       [-9.99113202e-01, -9.99932945e-01, -9.99998868e-01,\n",
       "        -9.99992788e-01, -9.99973893e-01, -9.99845326e-01,\n",
       "        -9.93095338e-01, -6.88597858e-01, -3.95698518e-01,\n",
       "        -9.97081578e-01, -1.00000000e+00, -1.00000000e+00,\n",
       "        -1.00000000e+00, -9.99999464e-01, -3.44794273e-01,\n",
       "         9.99977887e-01,  9.99999046e-01,  9.94365454e-01,\n",
       "        -8.97184670e-01, -9.99395370e-01, -9.99972999e-01,\n",
       "        -9.99906540e-01, -9.99335051e-01, -9.99772429e-01,\n",
       "        -9.99963403e-01, -9.99940574e-01, -9.99963820e-01,\n",
       "        -9.99840856e-01],\n",
       "       [-9.99368548e-01, -9.99845684e-01, -9.99998331e-01,\n",
       "        -9.99997556e-01, -9.99994218e-01, -9.99962687e-01,\n",
       "        -9.97663319e-01, -8.84603620e-01,  3.77380848e-01,\n",
       "        -9.87851441e-01, -9.99996006e-01, -1.00000000e+00,\n",
       "        -1.00000000e+00, -9.99852538e-01,  9.39809203e-01,\n",
       "         9.99988139e-01,  9.99997735e-01,  9.90713656e-01,\n",
       "        -5.71952105e-01, -9.98458266e-01, -9.99911070e-01,\n",
       "        -9.99916792e-01, -9.99595761e-01, -9.99896169e-01,\n",
       "        -9.99926209e-01, -9.99972522e-01, -9.99971747e-01,\n",
       "        -9.99830484e-01],\n",
       "       [-9.99675453e-01, -9.99972463e-01, -1.00000000e+00,\n",
       "        -1.00000000e+00, -1.00000000e+00, -9.99998569e-01,\n",
       "        -9.99993205e-01, -9.99137521e-01, -9.92945552e-01,\n",
       "        -9.99564707e-01, -9.99999642e-01, -1.00000000e+00,\n",
       "        -1.00000000e+00, -9.99543965e-01,  9.02049720e-01,\n",
       "         9.99963105e-01,  9.99963224e-01,  9.65266168e-01,\n",
       "        -9.39872384e-01, -9.98841226e-01, -9.99980748e-01,\n",
       "        -9.99986410e-01, -9.99972522e-01, -9.99941885e-01,\n",
       "        -9.99994814e-01, -9.99994278e-01, -9.99990404e-01,\n",
       "        -9.99936819e-01],\n",
       "       [-9.99449372e-01, -9.99891818e-01, -9.99999583e-01,\n",
       "        -9.99999642e-01, -1.00000000e+00, -1.00000000e+00,\n",
       "        -1.00000000e+00, -9.99993086e-01, -9.99971449e-01,\n",
       "        -9.99998629e-01, -1.00000000e+00, -1.00000000e+00,\n",
       "        -9.99993145e-01, -9.89511430e-01,  6.58437431e-01,\n",
       "         9.93155718e-01,  9.81955230e-01,  4.28223498e-02,\n",
       "        -9.86108661e-01, -9.99375582e-01, -9.99908030e-01,\n",
       "        -9.99990284e-01, -9.99983847e-01, -9.99984324e-01,\n",
       "        -9.99986231e-01, -9.99993026e-01, -9.99978721e-01,\n",
       "        -9.99900877e-01],\n",
       "       [-9.99227643e-01, -9.99950409e-01, -9.99999642e-01,\n",
       "        -9.99999344e-01, -1.00000000e+00, -1.00000000e+00,\n",
       "        -1.00000000e+00, -1.00000000e+00, -1.00000000e+00,\n",
       "        -1.00000000e+00, -1.00000000e+00, -1.00000000e+00,\n",
       "        -9.99932051e-01, -9.13196445e-01, -5.22235215e-01,\n",
       "        -5.20926178e-01, -9.26342130e-01, -9.91058469e-01,\n",
       "        -9.98518586e-01, -9.99025941e-01, -9.99921203e-01,\n",
       "        -9.99974251e-01, -9.99976099e-01, -9.99986053e-01,\n",
       "        -9.99994397e-01, -9.99981821e-01, -9.99984801e-01,\n",
       "        -9.99974430e-01],\n",
       "       [-9.98456120e-01, -9.99578536e-01, -9.99992847e-01,\n",
       "        -9.99990821e-01, -9.99999166e-01, -9.99998927e-01,\n",
       "        -1.00000000e+00, -1.00000000e+00, -1.00000000e+00,\n",
       "        -1.00000000e+00, -1.00000000e+00, -9.99989390e-01,\n",
       "        -9.96501923e-01, -8.02895904e-01, -9.55516279e-01,\n",
       "        -9.72134888e-01, -9.95076299e-01, -9.90435898e-01,\n",
       "        -9.97821927e-01, -9.95044768e-01, -9.99704182e-01,\n",
       "        -9.99781191e-01, -9.99938905e-01, -9.99845326e-01,\n",
       "        -9.99939799e-01, -9.99870241e-01, -9.99983847e-01,\n",
       "        -9.99745965e-01]], dtype=float32)"
      ]
     },
     "execution_count": 596,
     "metadata": {},
     "output_type": "execute_result"
    }
   ],
   "source": [
    "# upload the saved numpy array\n",
    "arr = np.load('generated_numpy.npy')\n",
    "arr"
   ]
  }
 ],
 "metadata": {
  "kernelspec": {
   "display_name": "Python 3",
   "language": "python",
   "name": "python3"
  },
  "language_info": {
   "codemirror_mode": {
    "name": "ipython",
    "version": 3
   },
   "file_extension": ".py",
   "mimetype": "text/x-python",
   "name": "python",
   "nbconvert_exporter": "python",
   "pygments_lexer": "ipython3",
   "version": "3.8.3"
  }
 },
 "nbformat": 4,
 "nbformat_minor": 4
}
